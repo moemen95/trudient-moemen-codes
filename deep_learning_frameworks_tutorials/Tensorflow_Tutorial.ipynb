{
 "cells": [
  {
   "cell_type": "markdown",
   "metadata": {},
   "source": [
    "# Tensorflow Tutorial"
   ]
  },
  {
   "cell_type": "markdown",
   "metadata": {},
   "source": [
    "Make sure you have tensorflow >= 2.0"
   ]
  },
  {
   "cell_type": "markdown",
   "metadata": {},
   "source": [
    "## Import TensorFlow\n",
    "\n",
    "To get started, import the `tensorflow` module. As of TensorFlow 2, eager execution is turned on by default. This enables a more interactive frontend to TensorFlow, the details of which we will discuss much later."
   ]
  },
  {
   "cell_type": "code",
   "execution_count": null,
   "metadata": {
    "pycharm": {
     "name": "#%%\n"
    }
   },
   "outputs": [],
   "source": [
    "import tensorflow as tf\n",
    "print(tf.__version__)"
   ]
  },
  {
   "cell_type": "markdown",
   "metadata": {},
   "source": [
    "## Tensors\n",
    "\n",
    "A Tensor is a multi-dimensional array. Similar to NumPy `ndarray` objects, `tf.Tensor` objects have a data type and a shape. Additionally, `tf.Tensor`s can reside in accelerator memory (like a GPU). TensorFlow offers a rich library of operations ([tf.add](https://www.tensorflow.org/api_docs/python/tf/add), [tf.matmul](https://www.tensorflow.org/api_docs/python/tf/matmul), [tf.linalg.inv](https://www.tensorflow.org/api_docs/python/tf/linalg/inv) etc.) that consume and produce `tf.Tensor`s. These operations automatically convert native Python types, for example:\n"
   ]
  },
  {
   "cell_type": "code",
   "execution_count": null,
   "metadata": {
    "pycharm": {
     "name": "#%%\n"
    }
   },
   "outputs": [],
   "source": [
    "print(tf.add(1, 2))\n",
    "print(tf.add([1, 2], [3, 4]))\n",
    "print(tf.square(5))\n",
    "print(tf.reduce_sum([1, 2, 3]))\n",
    "\n",
    "# Operator overloading is also supported\n",
    "print(tf.square(2) + tf.square(3))"
   ]
  },
  {
   "cell_type": "markdown",
   "metadata": {},
   "source": [
    "Each `tf.Tensor` has a shape and a datatype:"
   ]
  },
  {
   "cell_type": "code",
   "execution_count": null,
   "metadata": {
    "pycharm": {
     "name": "#%%\n"
    }
   },
   "outputs": [],
   "source": [
    "x = tf.matmul([[1]], [[2, 3]])\n",
    "print(x)\n",
    "print(x.shape)\n",
    "print(x.dtype)"
   ]
  },
  {
   "cell_type": "markdown",
   "metadata": {},
   "source": [
    "The most obvious differences between NumPy arrays and `tf.Tensor`s are:\n",
    "\n",
    "1. Tensors can be backed by accelerator memory (like GPU, TPU).\n",
    "2. Tensors are immutable."
   ]
  },
  {
   "cell_type": "markdown",
   "metadata": {},
   "source": [
    "### NumPy Compatibility\n",
    "\n",
    "Converting between a TensorFlow `tf.Tensor`s and a NumPy `ndarray` is easy:\n",
    "\n",
    "* TensorFlow operations automatically convert NumPy ndarrays to Tensors.\n",
    "* NumPy operations automatically convert Tensors to NumPy ndarrays.\n",
    "\n",
    "Tensors are explicitly converted to NumPy ndarrays using their `.numpy()` method. These conversions are typically cheap since the array and `tf.Tensor` share the underlying memory representation, if possible. However, sharing the underlying representation isn't always possible since the `tf.Tensor` may be hosted in GPU memory while NumPy arrays are always backed by host memory, and the conversion involves a copy from GPU to host memory."
   ]
  },
  {
   "cell_type": "code",
   "execution_count": null,
   "metadata": {
    "pycharm": {
     "name": "#%%\n"
    }
   },
   "outputs": [],
   "source": [
    "import numpy as np\n",
    "\n",
    "ndarray = np.ones([3, 3])\n",
    "\n",
    "print(\"TensorFlow operations convert numpy arrays to Tensors automatically\")\n",
    "tensor = tf.multiply(ndarray, 42)\n",
    "print(tensor)\n",
    "\n",
    "\n",
    "print(\"And NumPy operations convert Tensors to numpy arrays automatically\")\n",
    "print(np.add(tensor, 1))\n",
    "\n",
    "print(\"The .numpy() method explicitly converts a Tensor to a numpy array\")\n",
    "print(tensor.numpy())"
   ]
  },
  {
   "cell_type": "markdown",
   "metadata": {},
   "source": [
    "## GPU acceleration\n",
    "\n",
    "Many TensorFlow operations are accelerated using the GPU for computation. Without any annotations, TensorFlow automatically decides whether to use the GPU or CPU for an operation—copying the tensor between CPU and GPU memory, if necessary. Tensors produced by an operation are typically backed by the memory of the device on which the operation executed, for example:"
   ]
  },
  {
   "cell_type": "code",
   "execution_count": null,
   "metadata": {
    "pycharm": {
     "name": "#%%\n"
    }
   },
   "outputs": [],
   "source": [
    "x = tf.random.uniform([3, 3])\n",
    "\n",
    "print(\"Is there a GPU available: \"),\n",
    "print(tf.config.experimental.list_physical_devices(\"GPU\"))\n",
    "\n",
    "print(\"Is the Tensor on GPU #0:  \"),\n",
    "print(x.device.endswith('GPU:0'))"
   ]
  },
  {
   "cell_type": "markdown",
   "metadata": {},
   "source": [
    "### Device Names\n",
    "\n",
    "The `Tensor.device` property provides a fully qualified string name of the device hosting the contents of the tensor. This name encodes many details, such as an identifier of the network address of the host on which this program is executing and the device within that host. This is required for distributed execution of a TensorFlow program. The string ends with `GPU:<N>` if the tensor is placed on the `N`-th GPU on the host."
   ]
  },
  {
   "cell_type": "markdown",
   "metadata": {},
   "source": [
    "\n",
    "\n",
    "### Explicit Device Placement\n",
    "\n",
    "In TensorFlow, *placement* refers to how individual operations are assigned (placed on) a device for execution. As mentioned, when there is no explicit guidance provided, TensorFlow automatically decides which device to execute an operation and copies tensors to that device, if needed. However, TensorFlow operations can be explicitly placed on specific devices using the `tf.device` context manager, for example:"
   ]
  },
  {
   "cell_type": "code",
   "execution_count": null,
   "metadata": {
    "pycharm": {
     "name": "#%%\n"
    }
   },
   "outputs": [],
   "source": [
    "import time\n",
    "\n",
    "def time_matmul(x):\n",
    "    start = time.time()\n",
    "    for loop in range(10):\n",
    "        tf.matmul(x, x)\n",
    "\n",
    "    result = time.time()-start\n",
    "\n",
    "    print(\"10 loops: {:0.2f}ms\".format(1000*result))\n",
    "\n",
    "# Force execution on CPU\n",
    "print(\"On CPU:\")\n",
    "with tf.device(\"CPU:0\"):\n",
    "    x = tf.random.uniform([1000, 1000])\n",
    "    assert x.device.endswith(\"CPU:0\")\n",
    "    time_matmul(x)\n",
    "\n",
    "# Force execution on GPU #0 if available\n",
    "if tf.config.experimental.list_physical_devices(\"GPU\"):\n",
    "    print(\"On GPU:\")\n",
    "    with tf.device(\"GPU:0\"): # Or GPU:1 for the 2nd GPU, GPU:2 for the 3rd etc.\n",
    "        x = tf.random.uniform([1000, 1000])\n",
    "        assert x.device.endswith(\"GPU:0\")\n",
    "        time_matmul(x)"
   ]
  },
  {
   "cell_type": "markdown",
   "metadata": {},
   "source": [
    "## Datasets\n",
    "\n",
    "This section uses the [`tf.data.Dataset` API](https://www.tensorflow.org/guide/datasets) to build a pipeline for feeding data to your model. The `tf.data.Dataset` API is used to build performant, complex input pipelines from simple, re-usable pieces that will feed your model's training or evaluation loops."
   ]
  },
  {
   "cell_type": "markdown",
   "metadata": {},
   "source": [
    "### Create a source `Dataset`\n",
    "\n",
    "Create a *source* dataset using one of the factory functions like [`Dataset.from_tensors`](https://www.tensorflow.org/api_docs/python/tf/data/Dataset#from_tensors), [`Dataset.from_tensor_slices`](https://www.tensorflow.org/api_docs/python/tf/data/Dataset#from_tensor_slices), or using objects that read from files like [`TextLineDataset`](https://www.tensorflow.org/api_docs/python/tf/data/TextLineDataset) or [`TFRecordDataset`](https://www.tensorflow.org/api_docs/python/tf/data/TFRecordDataset). See the [TensorFlow Dataset guide](https://www.tensorflow.org/guide/datasets#reading_input_data) for more information."
   ]
  },
  {
   "cell_type": "code",
   "execution_count": null,
   "metadata": {
    "pycharm": {
     "name": "#%%\n"
    }
   },
   "outputs": [],
   "source": [
    "ds_tensors = tf.data.Dataset.from_tensor_slices([1, 2, 3, 4, 5, 6])\n",
    "\n",
    "# Create a CSV file\n",
    "import tempfile\n",
    "_, filename = tempfile.mkstemp()\n",
    "\n",
    "with open(filename, 'w') as f:\n",
    "    f.write(\"\"\"Line 1\n",
    "Line 2\n",
    "Line 3\n",
    "  \"\"\")\n",
    "\n",
    "ds_file = tf.data.TextLineDataset(filename)"
   ]
  },
  {
   "cell_type": "markdown",
   "metadata": {},
   "source": [
    "### Apply transformations\n",
    "\n",
    "Use the transformations functions like [`map`](https://www.tensorflow.org/api_docs/python/tf/data/Dataset#map), [`batch`](https://www.tensorflow.org/api_docs/python/tf/data/Dataset#batch), and [`shuffle`](https://www.tensorflow.org/api_docs/python/tf/data/Dataset#shuffle) to apply transformations to dataset records."
   ]
  },
  {
   "cell_type": "code",
   "execution_count": null,
   "metadata": {
    "pycharm": {
     "name": "#%%\n"
    }
   },
   "outputs": [],
   "source": [
    "ds_tensors = ds_tensors.map(tf.square).shuffle(2).batch(2)\n",
    "\n",
    "ds_file = ds_file.batch(2)"
   ]
  },
  {
   "cell_type": "markdown",
   "metadata": {},
   "source": [
    "### Iterate\n",
    "\n",
    "`tf.data.Dataset` objects support iteration to loop over records:"
   ]
  },
  {
   "cell_type": "code",
   "execution_count": null,
   "metadata": {
    "pycharm": {
     "name": "#%%\n"
    }
   },
   "outputs": [],
   "source": [
    "print('Elements of ds_tensors:')\n",
    "for x in ds_tensors:\n",
    "    print(x)\n",
    "\n",
    "print('\\nElements in ds_file:')\n",
    "for x in ds_file:\n",
    "    print(x)"
   ]
  },
  {
   "cell_type": "markdown",
   "metadata": {
    "pycharm": {
     "name": "#%%\n"
    }
   },
   "source": [
    "# Tensorflow Estimators"
   ]
  },
  {
   "cell_type": "markdown",
   "metadata": {},
   "source": [
    "## The data set\n",
    "\n",
    "The sample program in this document builds and tests a model that\n",
    "classifies Iris flowers into three different species based on the size of their\n",
    "[sepals](https://en.wikipedia.org/wiki/Sepal) and\n",
    "[petals](https://en.wikipedia.org/wiki/Petal).\n",
    "\n",
    "\n",
    "You will train a model using the Iris data set. The Iris data set contains four features and one\n",
    "[label](https://developers.google.com/machine-learning/glossary/#label).\n",
    "The four features identify the following botanical characteristics of\n",
    "individual Iris flowers:\n",
    "\n",
    "* sepal length\n",
    "* sepal width\n",
    "* petal length\n",
    "* petal width\n",
    "\n",
    "Based on this information, you can define a few helpful constants for parsing the data:\n"
   ]
  },
  {
   "cell_type": "code",
   "execution_count": 8,
   "metadata": {
    "pycharm": {
     "name": "#%%\n"
    }
   },
   "outputs": [],
   "source": [
    "CSV_COLUMN_NAMES = ['SepalLength', 'SepalWidth', 'PetalLength', 'PetalWidth', 'Species']\n",
    "SPECIES = ['Setosa', 'Versicolor', 'Virginica']"
   ]
  },
  {
   "cell_type": "markdown",
   "metadata": {},
   "source": [
    "Next, download and parse the Iris data set using Keras and Pandas. Note that you keep distinct datasets for training and testing."
   ]
  },
  {
   "cell_type": "code",
   "execution_count": 10,
   "metadata": {
    "pycharm": {
     "name": "#%%\n"
    }
   },
   "outputs": [],
   "source": [
    "import pandas as pd\n",
    "\n",
    "train_path = tf.keras.utils.get_file(\n",
    "    \"iris_training.csv\", \"https://storage.googleapis.com/download.tensorflow.org/data/iris_training.csv\")\n",
    "test_path = tf.keras.utils.get_file(\n",
    "    \"iris_test.csv\", \"https://storage.googleapis.com/download.tensorflow.org/data/iris_test.csv\")\n",
    "\n",
    "train = pd.read_csv(train_path, names=CSV_COLUMN_NAMES, header=0)\n",
    "test = pd.read_csv(test_path, names=CSV_COLUMN_NAMES, header=0)"
   ]
  },
  {
   "cell_type": "markdown",
   "metadata": {},
   "source": [
    "You can inspect your data to see that you have four float feature columns and one int32 label."
   ]
  },
  {
   "cell_type": "code",
   "execution_count": 11,
   "metadata": {
    "pycharm": {
     "name": "#%%\n"
    }
   },
   "outputs": [
    {
     "data": {
      "text/html": [
       "<div>\n",
       "<style scoped>\n",
       "    .dataframe tbody tr th:only-of-type {\n",
       "        vertical-align: middle;\n",
       "    }\n",
       "\n",
       "    .dataframe tbody tr th {\n",
       "        vertical-align: top;\n",
       "    }\n",
       "\n",
       "    .dataframe thead th {\n",
       "        text-align: right;\n",
       "    }\n",
       "</style>\n",
       "<table border=\"1\" class=\"dataframe\">\n",
       "  <thead>\n",
       "    <tr style=\"text-align: right;\">\n",
       "      <th></th>\n",
       "      <th>SepalLength</th>\n",
       "      <th>SepalWidth</th>\n",
       "      <th>PetalLength</th>\n",
       "      <th>PetalWidth</th>\n",
       "      <th>Species</th>\n",
       "    </tr>\n",
       "  </thead>\n",
       "  <tbody>\n",
       "    <tr>\n",
       "      <th>0</th>\n",
       "      <td>6.4</td>\n",
       "      <td>2.8</td>\n",
       "      <td>5.6</td>\n",
       "      <td>2.2</td>\n",
       "      <td>2</td>\n",
       "    </tr>\n",
       "    <tr>\n",
       "      <th>1</th>\n",
       "      <td>5.0</td>\n",
       "      <td>2.3</td>\n",
       "      <td>3.3</td>\n",
       "      <td>1.0</td>\n",
       "      <td>1</td>\n",
       "    </tr>\n",
       "    <tr>\n",
       "      <th>2</th>\n",
       "      <td>4.9</td>\n",
       "      <td>2.5</td>\n",
       "      <td>4.5</td>\n",
       "      <td>1.7</td>\n",
       "      <td>2</td>\n",
       "    </tr>\n",
       "    <tr>\n",
       "      <th>3</th>\n",
       "      <td>4.9</td>\n",
       "      <td>3.1</td>\n",
       "      <td>1.5</td>\n",
       "      <td>0.1</td>\n",
       "      <td>0</td>\n",
       "    </tr>\n",
       "    <tr>\n",
       "      <th>4</th>\n",
       "      <td>5.7</td>\n",
       "      <td>3.8</td>\n",
       "      <td>1.7</td>\n",
       "      <td>0.3</td>\n",
       "      <td>0</td>\n",
       "    </tr>\n",
       "  </tbody>\n",
       "</table>\n",
       "</div>"
      ],
      "text/plain": [
       "   SepalLength  SepalWidth  PetalLength  PetalWidth  Species\n",
       "0          6.4         2.8          5.6         2.2        2\n",
       "1          5.0         2.3          3.3         1.0        1\n",
       "2          4.9         2.5          4.5         1.7        2\n",
       "3          4.9         3.1          1.5         0.1        0\n",
       "4          5.7         3.8          1.7         0.3        0"
      ]
     },
     "execution_count": 11,
     "metadata": {},
     "output_type": "execute_result"
    }
   ],
   "source": [
    "train.head()"
   ]
  },
  {
   "cell_type": "markdown",
   "metadata": {},
   "source": [
    "For each of the datasets, split out the labels, which the model will be trained to predict."
   ]
  },
  {
   "cell_type": "code",
   "execution_count": 12,
   "metadata": {
    "pycharm": {
     "name": "#%%\n"
    }
   },
   "outputs": [
    {
     "data": {
      "text/html": [
       "<div>\n",
       "<style scoped>\n",
       "    .dataframe tbody tr th:only-of-type {\n",
       "        vertical-align: middle;\n",
       "    }\n",
       "\n",
       "    .dataframe tbody tr th {\n",
       "        vertical-align: top;\n",
       "    }\n",
       "\n",
       "    .dataframe thead th {\n",
       "        text-align: right;\n",
       "    }\n",
       "</style>\n",
       "<table border=\"1\" class=\"dataframe\">\n",
       "  <thead>\n",
       "    <tr style=\"text-align: right;\">\n",
       "      <th></th>\n",
       "      <th>SepalLength</th>\n",
       "      <th>SepalWidth</th>\n",
       "      <th>PetalLength</th>\n",
       "      <th>PetalWidth</th>\n",
       "    </tr>\n",
       "  </thead>\n",
       "  <tbody>\n",
       "    <tr>\n",
       "      <th>0</th>\n",
       "      <td>6.4</td>\n",
       "      <td>2.8</td>\n",
       "      <td>5.6</td>\n",
       "      <td>2.2</td>\n",
       "    </tr>\n",
       "    <tr>\n",
       "      <th>1</th>\n",
       "      <td>5.0</td>\n",
       "      <td>2.3</td>\n",
       "      <td>3.3</td>\n",
       "      <td>1.0</td>\n",
       "    </tr>\n",
       "    <tr>\n",
       "      <th>2</th>\n",
       "      <td>4.9</td>\n",
       "      <td>2.5</td>\n",
       "      <td>4.5</td>\n",
       "      <td>1.7</td>\n",
       "    </tr>\n",
       "    <tr>\n",
       "      <th>3</th>\n",
       "      <td>4.9</td>\n",
       "      <td>3.1</td>\n",
       "      <td>1.5</td>\n",
       "      <td>0.1</td>\n",
       "    </tr>\n",
       "    <tr>\n",
       "      <th>4</th>\n",
       "      <td>5.7</td>\n",
       "      <td>3.8</td>\n",
       "      <td>1.7</td>\n",
       "      <td>0.3</td>\n",
       "    </tr>\n",
       "  </tbody>\n",
       "</table>\n",
       "</div>"
      ],
      "text/plain": [
       "   SepalLength  SepalWidth  PetalLength  PetalWidth\n",
       "0          6.4         2.8          5.6         2.2\n",
       "1          5.0         2.3          3.3         1.0\n",
       "2          4.9         2.5          4.5         1.7\n",
       "3          4.9         3.1          1.5         0.1\n",
       "4          5.7         3.8          1.7         0.3"
      ]
     },
     "execution_count": 12,
     "metadata": {},
     "output_type": "execute_result"
    }
   ],
   "source": [
    "train_y = train.pop('Species')\n",
    "test_y = test.pop('Species')\n",
    "\n",
    "# The label column has now been removed from the features.\n",
    "train.head()"
   ]
  },
  {
   "cell_type": "markdown",
   "metadata": {},
   "source": [
    "## Overview of programming with Estimators\n",
    "\n",
    "Now that you have the data set up, you can define a model using a TensorFlow Estimator. An Estimator is any class derived from `tf.estimator.Estimator`. TensorFlow\n",
    "provides a collection of\n",
    "`tf.estimator`\n",
    "(for example, `LinearRegressor`) to implement common ML algorithms. Beyond\n",
    "those, you may write your own\n",
    "[custom Estimators](https://www.tensorflow.org/guide/custom_estimators).\n",
    "We recommend using pre-made Estimators when just getting started.\n",
    "\n",
    "To write a TensorFlow program based on pre-made Estimators, you must perform the\n",
    "following tasks:\n",
    "\n",
    "* Create one or more input functions.\n",
    "* Define the model's feature columns.\n",
    "* Instantiate an Estimator, specifying the feature columns and various\n",
    "  hyperparameters.\n",
    "* Call one or more methods on the Estimator object, passing the appropriate\n",
    "  input function as the source of the data.\n",
    "\n",
    "Let's see how those tasks are implemented for Iris classification."
   ]
  },
  {
   "cell_type": "markdown",
   "metadata": {},
   "source": [
    "## Create input functions\n",
    "\n",
    "You must create input functions to supply data for training,\n",
    "evaluating, and prediction.\n",
    "\n",
    "An **input function** is a function that returns a `tf.data.Dataset` object\n",
    "which outputs the following two-element tuple:\n",
    "\n",
    "* [`features`](https://developers.google.com/machine-learning/glossary/#feature) - A Python dictionary in which:\n",
    "    * Each key is the name of a feature.\n",
    "    * Each value is an array containing all of that feature's values.\n",
    "* `label` - An array containing the values of the\n",
    "  [label](https://developers.google.com/machine-learning/glossary/#label) for\n",
    "  every example.\n",
    "\n",
    "Just to demonstrate the format of the input function, here's a simple\n",
    "implementation:"
   ]
  },
  {
   "cell_type": "code",
   "execution_count": 13,
   "metadata": {
    "pycharm": {
     "name": "#%%\n"
    }
   },
   "outputs": [],
   "source": [
    "def input_evaluation_set():\n",
    "    features = {'SepalLength': np.array([6.4, 5.0]),\n",
    "                'SepalWidth':  np.array([2.8, 2.3]),\n",
    "                'PetalLength': np.array([5.6, 3.3]),\n",
    "                'PetalWidth':  np.array([2.2, 1.0])}\n",
    "    labels = np.array([2, 1])\n",
    "    return features, labels"
   ]
  },
  {
   "cell_type": "markdown",
   "metadata": {},
   "source": [
    "Your input function may generate the `features` dictionary and `label` list any\n",
    "way you like. However, we recommend using TensorFlow's [Dataset API](https://www.tensorflow.org/guide/datasets), which can\n",
    "parse all sorts of data.\n",
    "\n",
    "The Dataset API can handle a lot of common cases for you. For example,\n",
    "using the Dataset API, you can easily read in records from a large collection\n",
    "of files in parallel and join them into a single stream.\n",
    "\n",
    "To keep things simple in this example you are going to load the data with\n",
    "[pandas](https://pandas.pydata.org/), and build an input pipeline from this\n",
    "in-memory data:\n"
   ]
  },
  {
   "cell_type": "code",
   "execution_count": 14,
   "metadata": {
    "pycharm": {
     "name": "#%%\n"
    }
   },
   "outputs": [],
   "source": [
    "def input_fn(features, labels, training=True, batch_size=256):\n",
    "    \"\"\"An input function for training or evaluating\"\"\"\n",
    "    # Convert the inputs to a Dataset.\n",
    "    dataset = tf.data.Dataset.from_tensor_slices((dict(features), labels))\n",
    "\n",
    "    # Shuffle and repeat if you are in training mode.\n",
    "    if training:\n",
    "        dataset = dataset.shuffle(1000).repeat()\n",
    "    \n",
    "    return dataset.batch(batch_size)\n"
   ]
  },
  {
   "cell_type": "markdown",
   "metadata": {},
   "source": [
    "## Define the feature columns\n",
    "\n",
    "A [**feature column**](https://developers.google.com/machine-learning/glossary/#feature_columns)\n",
    "is an object describing how the model should use raw input data from the\n",
    "features dictionary. When you build an Estimator model, you pass it a list of\n",
    "feature columns that describes each of the features you want the model to use.\n",
    "The `tf.feature_column` module provides many options for representing data\n",
    "to the model.\n",
    "\n",
    "For Iris, the 4 raw features are numeric values, so we'll build a list of\n",
    "feature columns to tell the Estimator model to represent each of the four\n",
    "features as 32-bit floating-point values. Therefore, the code to create the\n",
    "feature column is:"
   ]
  },
  {
   "cell_type": "code",
   "execution_count": 15,
   "metadata": {
    "pycharm": {
     "name": "#%%\n"
    }
   },
   "outputs": [],
   "source": [
    "# Feature columns describe how to use the input.\n",
    "my_feature_columns = []\n",
    "for key in train.keys():\n",
    "    my_feature_columns.append(tf.feature_column.numeric_column(key=key))"
   ]
  },
  {
   "cell_type": "markdown",
   "metadata": {},
   "source": [
    "Feature columns can be far more sophisticated than those we're showing here.  You can read more about Feature Columns in [this guide](https://www.tensorflow.org/guide/feature_columns).\n",
    "\n",
    "Now that you have the description of how you want the model to represent the raw\n",
    "features, you can build the estimator."
   ]
  },
  {
   "cell_type": "markdown",
   "metadata": {},
   "source": [
    "## Instantiate an estimator\n",
    "\n",
    "The Iris problem is a classic classification problem. Fortunately, TensorFlow\n",
    "provides several pre-made classifier Estimators, including:\n",
    "\n",
    "* `tf.estimator.DNNClassifier` for deep models that perform multi-class\n",
    "  classification.\n",
    "* `tf.estimator.DNNLinearCombinedClassifier` for wide & deep models.\n",
    "* `tf.estimator.LinearClassifier` for classifiers based on linear models.\n",
    "\n",
    "For the Iris problem, `tf.estimator.DNNClassifier` seems like the best choice.\n",
    "Here's how you instantiated this Estimator:"
   ]
  },
  {
   "cell_type": "code",
   "execution_count": 16,
   "metadata": {
    "pycharm": {
     "name": "#%%\n"
    }
   },
   "outputs": [
    {
     "name": "stdout",
     "output_type": "stream",
     "text": [
      "INFO:tensorflow:Using default config.\n",
      "WARNING:tensorflow:Using temporary folder as model directory: /tmp/tmp5gput3ww\n",
      "INFO:tensorflow:Using config: {'_model_dir': '/tmp/tmp5gput3ww', '_tf_random_seed': None, '_save_summary_steps': 100, '_save_checkpoints_steps': None, '_save_checkpoints_secs': 600, '_session_config': allow_soft_placement: true\n",
      "graph_options {\n",
      "  rewrite_options {\n",
      "    meta_optimizer_iterations: ONE\n",
      "  }\n",
      "}\n",
      ", '_keep_checkpoint_max': 5, '_keep_checkpoint_every_n_hours': 10000, '_log_step_count_steps': 100, '_train_distribute': None, '_device_fn': None, '_protocol': None, '_eval_distribute': None, '_experimental_distribute': None, '_experimental_max_worker_delay_secs': None, '_session_creation_timeout_secs': 7200, '_service': None, '_cluster_spec': ClusterSpec({}), '_task_type': 'worker', '_task_id': 0, '_global_id_in_cluster': 0, '_master': '', '_evaluation_master': '', '_is_chief': True, '_num_ps_replicas': 0, '_num_worker_replicas': 1}\n"
     ]
    }
   ],
   "source": [
    "# Build a DNN with 2 hidden layers with 30 and 10 hidden nodes each.\n",
    "classifier = tf.estimator.DNNClassifier(\n",
    "    feature_columns=my_feature_columns,\n",
    "    # Two hidden layers of 30 and 10 nodes respectively.\n",
    "    hidden_units=[30, 10],\n",
    "    # The model must choose between 3 classes.\n",
    "    n_classes=3)"
   ]
  },
  {
   "cell_type": "markdown",
   "metadata": {},
   "source": [
    "## Train, Evaluate, and Predict\n",
    "\n",
    "Now that you have an Estimator object, you can call methods to do the following:\n",
    "\n",
    "* Train the model.\n",
    "* Evaluate the trained model.\n",
    "* Use the trained model to make predictions."
   ]
  },
  {
   "cell_type": "markdown",
   "metadata": {},
   "source": [
    "### Train the model\n",
    "\n",
    "Train the model by calling the Estimator's `train` method as follows:"
   ]
  },
  {
   "cell_type": "code",
   "execution_count": 17,
   "metadata": {
    "pycharm": {
     "name": "#%%\n"
    }
   },
   "outputs": [
    {
     "name": "stdout",
     "output_type": "stream",
     "text": [
      "WARNING:tensorflow:From /home/moemen/miniconda3/envs/dl3/lib/python3.6/site-packages/tensorflow_core/python/ops/resource_variable_ops.py:1635: calling BaseResourceVariable.__init__ (from tensorflow.python.ops.resource_variable_ops) with constraint is deprecated and will be removed in a future version.\n",
      "Instructions for updating:\n",
      "If using Keras pass *_constraint arguments to layers.\n",
      "WARNING:tensorflow:From /home/moemen/miniconda3/envs/dl3/lib/python3.6/site-packages/tensorflow_core/python/training/training_util.py:236: Variable.initialized_value (from tensorflow.python.ops.variables) is deprecated and will be removed in a future version.\n",
      "Instructions for updating:\n",
      "Use Variable.read_value. Variables in 2.X are initialized automatically both in eager and graph (inside tf.defun) contexts.\n",
      "INFO:tensorflow:Calling model_fn.\n",
      "WARNING:tensorflow:Layer dnn is casting an input tensor from dtype float64 to the layer's dtype of float32, which is new behavior in TensorFlow 2.  The layer has dtype float32 because it's dtype defaults to floatx.\n",
      "\n",
      "If you intended to run this layer in float32, you can safely ignore this warning. If in doubt, this warning is likely only an issue if you are porting a TensorFlow 1.X model to TensorFlow 2.\n",
      "\n",
      "To change all layers to have dtype float64 by default, call `tf.keras.backend.set_floatx('float64')`. To change just this layer, pass dtype='float64' to the layer constructor. If you are the author of this layer, you can disable autocasting by passing autocast=False to the base Layer constructor.\n",
      "\n",
      "WARNING:tensorflow:From /home/moemen/miniconda3/envs/dl3/lib/python3.6/site-packages/tensorflow_core/python/keras/optimizer_v2/adagrad.py:103: calling Constant.__init__ (from tensorflow.python.ops.init_ops) with dtype is deprecated and will be removed in a future version.\n",
      "Instructions for updating:\n",
      "Call initializer instance with the dtype argument instead of passing it to the constructor\n",
      "INFO:tensorflow:Done calling model_fn.\n",
      "INFO:tensorflow:Create CheckpointSaverHook.\n",
      "INFO:tensorflow:Graph was finalized.\n",
      "INFO:tensorflow:Running local_init_op.\n",
      "INFO:tensorflow:Done running local_init_op.\n",
      "INFO:tensorflow:Saving checkpoints for 0 into /tmp/tmp5gput3ww/model.ckpt.\n",
      "INFO:tensorflow:loss = 1.4265935, step = 0\n",
      "INFO:tensorflow:global_step/sec: 239.843\n",
      "INFO:tensorflow:loss = 1.1236491, step = 100 (0.421 sec)\n",
      "INFO:tensorflow:global_step/sec: 310.456\n",
      "INFO:tensorflow:loss = 1.0876045, step = 200 (0.320 sec)\n",
      "INFO:tensorflow:global_step/sec: 331.499\n",
      "INFO:tensorflow:loss = 1.0426652, step = 300 (0.302 sec)\n",
      "INFO:tensorflow:global_step/sec: 317.454\n",
      "INFO:tensorflow:loss = 1.0284718, step = 400 (0.315 sec)\n",
      "INFO:tensorflow:global_step/sec: 326.28\n",
      "INFO:tensorflow:loss = 1.0290279, step = 500 (0.307 sec)\n",
      "INFO:tensorflow:global_step/sec: 281.513\n",
      "INFO:tensorflow:loss = 1.0182976, step = 600 (0.356 sec)\n",
      "INFO:tensorflow:global_step/sec: 282.381\n",
      "INFO:tensorflow:loss = 1.0137196, step = 700 (0.353 sec)\n",
      "INFO:tensorflow:global_step/sec: 306.834\n",
      "INFO:tensorflow:loss = 0.99231064, step = 800 (0.328 sec)\n",
      "INFO:tensorflow:global_step/sec: 310.886\n",
      "INFO:tensorflow:loss = 0.9879891, step = 900 (0.320 sec)\n",
      "INFO:tensorflow:global_step/sec: 305.656\n",
      "INFO:tensorflow:loss = 0.97610664, step = 1000 (0.327 sec)\n",
      "INFO:tensorflow:global_step/sec: 308.824\n",
      "INFO:tensorflow:loss = 0.9751395, step = 1100 (0.324 sec)\n",
      "INFO:tensorflow:global_step/sec: 326.821\n",
      "INFO:tensorflow:loss = 0.94982946, step = 1200 (0.306 sec)\n",
      "INFO:tensorflow:global_step/sec: 293.018\n",
      "INFO:tensorflow:loss = 0.93666744, step = 1300 (0.341 sec)\n",
      "INFO:tensorflow:global_step/sec: 354.866\n",
      "INFO:tensorflow:loss = 0.9306901, step = 1400 (0.284 sec)\n",
      "INFO:tensorflow:global_step/sec: 344.842\n",
      "INFO:tensorflow:loss = 0.9264804, step = 1500 (0.287 sec)\n",
      "INFO:tensorflow:global_step/sec: 394.279\n",
      "INFO:tensorflow:loss = 0.92100513, step = 1600 (0.254 sec)\n",
      "INFO:tensorflow:global_step/sec: 379.228\n",
      "INFO:tensorflow:loss = 0.911926, step = 1700 (0.264 sec)\n",
      "INFO:tensorflow:global_step/sec: 388.92\n",
      "INFO:tensorflow:loss = 0.89351696, step = 1800 (0.260 sec)\n",
      "INFO:tensorflow:global_step/sec: 347.557\n",
      "INFO:tensorflow:loss = 0.89945406, step = 1900 (0.285 sec)\n",
      "INFO:tensorflow:global_step/sec: 385.259\n",
      "INFO:tensorflow:loss = 0.8808471, step = 2000 (0.262 sec)\n",
      "INFO:tensorflow:global_step/sec: 375.992\n",
      "INFO:tensorflow:loss = 0.8633529, step = 2100 (0.264 sec)\n",
      "INFO:tensorflow:global_step/sec: 400.053\n",
      "INFO:tensorflow:loss = 0.8707984, step = 2200 (0.252 sec)\n",
      "INFO:tensorflow:global_step/sec: 386.144\n",
      "INFO:tensorflow:loss = 0.8501547, step = 2300 (0.257 sec)\n",
      "INFO:tensorflow:global_step/sec: 355.669\n",
      "INFO:tensorflow:loss = 0.83903885, step = 2400 (0.281 sec)\n",
      "INFO:tensorflow:global_step/sec: 395.918\n",
      "INFO:tensorflow:loss = 0.8306994, step = 2500 (0.254 sec)\n",
      "INFO:tensorflow:global_step/sec: 401.556\n",
      "INFO:tensorflow:loss = 0.8205812, step = 2600 (0.247 sec)\n",
      "INFO:tensorflow:global_step/sec: 410.079\n",
      "INFO:tensorflow:loss = 0.8096598, step = 2700 (0.244 sec)\n",
      "INFO:tensorflow:global_step/sec: 400.007\n",
      "INFO:tensorflow:loss = 0.79715455, step = 2800 (0.250 sec)\n",
      "INFO:tensorflow:global_step/sec: 354.365\n",
      "INFO:tensorflow:loss = 0.780361, step = 2900 (0.282 sec)\n",
      "INFO:tensorflow:global_step/sec: 379.081\n",
      "INFO:tensorflow:loss = 0.78041667, step = 3000 (0.264 sec)\n",
      "INFO:tensorflow:global_step/sec: 366.064\n",
      "INFO:tensorflow:loss = 0.7687743, step = 3100 (0.272 sec)\n",
      "INFO:tensorflow:global_step/sec: 355.691\n",
      "INFO:tensorflow:loss = 0.75772154, step = 3200 (0.281 sec)\n",
      "INFO:tensorflow:global_step/sec: 366.804\n",
      "INFO:tensorflow:loss = 0.7512107, step = 3300 (0.273 sec)\n",
      "INFO:tensorflow:global_step/sec: 360.546\n",
      "INFO:tensorflow:loss = 0.73351, step = 3400 (0.278 sec)\n",
      "INFO:tensorflow:global_step/sec: 323.132\n",
      "INFO:tensorflow:loss = 0.72026664, step = 3500 (0.316 sec)\n",
      "INFO:tensorflow:global_step/sec: 314.174\n",
      "INFO:tensorflow:loss = 0.7224438, step = 3600 (0.311 sec)\n",
      "INFO:tensorflow:global_step/sec: 308.19\n",
      "INFO:tensorflow:loss = 0.710704, step = 3700 (0.336 sec)\n",
      "INFO:tensorflow:global_step/sec: 285.594\n",
      "INFO:tensorflow:loss = 0.71300644, step = 3800 (0.340 sec)\n",
      "INFO:tensorflow:global_step/sec: 310.378\n",
      "INFO:tensorflow:loss = 0.6898196, step = 3900 (0.324 sec)\n",
      "INFO:tensorflow:global_step/sec: 399.412\n",
      "INFO:tensorflow:loss = 0.6854067, step = 4000 (0.250 sec)\n",
      "INFO:tensorflow:global_step/sec: 322.489\n",
      "INFO:tensorflow:loss = 0.6718435, step = 4100 (0.312 sec)\n",
      "INFO:tensorflow:global_step/sec: 333.557\n",
      "INFO:tensorflow:loss = 0.66362196, step = 4200 (0.297 sec)\n",
      "INFO:tensorflow:global_step/sec: 402.7\n",
      "INFO:tensorflow:loss = 0.67834866, step = 4300 (0.250 sec)\n",
      "INFO:tensorflow:global_step/sec: 406.181\n",
      "INFO:tensorflow:loss = 0.6470715, step = 4400 (0.244 sec)\n",
      "INFO:tensorflow:global_step/sec: 379.23\n",
      "INFO:tensorflow:loss = 0.65122074, step = 4500 (0.264 sec)\n",
      "INFO:tensorflow:global_step/sec: 384.918\n",
      "INFO:tensorflow:loss = 0.6437768, step = 4600 (0.261 sec)\n",
      "INFO:tensorflow:global_step/sec: 398.038\n",
      "INFO:tensorflow:loss = 0.6213918, step = 4700 (0.249 sec)\n",
      "INFO:tensorflow:global_step/sec: 404.097\n",
      "INFO:tensorflow:loss = 0.6197611, step = 4800 (0.247 sec)\n",
      "INFO:tensorflow:global_step/sec: 407.329\n",
      "INFO:tensorflow:loss = 0.62672263, step = 4900 (0.246 sec)\n",
      "INFO:tensorflow:Saving checkpoints for 5000 into /tmp/tmp5gput3ww/model.ckpt.\n",
      "INFO:tensorflow:Loss for final step: 0.60369945.\n"
     ]
    },
    {
     "data": {
      "text/plain": [
       "<tensorflow_estimator.python.estimator.canned.dnn.DNNClassifierV2 at 0x7f44b02bbcc0>"
      ]
     },
     "execution_count": 17,
     "metadata": {},
     "output_type": "execute_result"
    }
   ],
   "source": [
    "# Train the Model.\n",
    "classifier.train(\n",
    "    input_fn=lambda: input_fn(train, train_y, training=True),\n",
    "    steps=5000)"
   ]
  },
  {
   "cell_type": "markdown",
   "metadata": {},
   "source": [
    "Note that you wrap up your `input_fn` call in a\n",
    "[`lambda`](https://docs.python.org/3/tutorial/controlflow.html)\n",
    "to capture the arguments while providing an input function that takes no\n",
    "arguments, as expected by the Estimator. The `steps` argument tells the method\n",
    "to stop training after a number of training steps.\n"
   ]
  },
  {
   "cell_type": "markdown",
   "metadata": {},
   "source": [
    "### Evaluate the trained model\n",
    "\n",
    "Now that the model has been trained, you can get some statistics on its\n",
    "performance. The following code block evaluates the accuracy of the trained\n",
    "model on the test data:\n"
   ]
  },
  {
   "cell_type": "code",
   "execution_count": 18,
   "metadata": {
    "pycharm": {
     "name": "#%%\n"
    }
   },
   "outputs": [
    {
     "name": "stdout",
     "output_type": "stream",
     "text": [
      "INFO:tensorflow:Calling model_fn.\n",
      "WARNING:tensorflow:Layer dnn is casting an input tensor from dtype float64 to the layer's dtype of float32, which is new behavior in TensorFlow 2.  The layer has dtype float32 because it's dtype defaults to floatx.\n",
      "\n",
      "If you intended to run this layer in float32, you can safely ignore this warning. If in doubt, this warning is likely only an issue if you are porting a TensorFlow 1.X model to TensorFlow 2.\n",
      "\n",
      "To change all layers to have dtype float64 by default, call `tf.keras.backend.set_floatx('float64')`. To change just this layer, pass dtype='float64' to the layer constructor. If you are the author of this layer, you can disable autocasting by passing autocast=False to the base Layer constructor.\n",
      "\n",
      "INFO:tensorflow:Done calling model_fn.\n",
      "INFO:tensorflow:Starting evaluation at 2020-01-23T11:56:40Z\n",
      "INFO:tensorflow:Graph was finalized.\n",
      "INFO:tensorflow:Restoring parameters from /tmp/tmp5gput3ww/model.ckpt-5000\n",
      "INFO:tensorflow:Running local_init_op.\n",
      "INFO:tensorflow:Done running local_init_op.\n",
      "INFO:tensorflow:Inference Time : 0.51247s\n",
      "INFO:tensorflow:Finished evaluation at 2020-01-23-11:56:40\n",
      "INFO:tensorflow:Saving dict for global step 5000: accuracy = 0.8, average_loss = 0.6866619, global_step = 5000, loss = 0.6866619\n",
      "INFO:tensorflow:Saving 'checkpoint_path' summary for global step 5000: /tmp/tmp5gput3ww/model.ckpt-5000\n",
      "\n",
      "Test set accuracy: 0.800\n",
      "\n"
     ]
    }
   ],
   "source": [
    "eval_result = classifier.evaluate(\n",
    "    input_fn=lambda: input_fn(test, test_y, training=False))\n",
    "\n",
    "print('\\nTest set accuracy: {accuracy:0.3f}\\n'.format(**eval_result))"
   ]
  },
  {
   "cell_type": "markdown",
   "metadata": {},
   "source": [
    "Unlike the call to the `train` method, you did not pass the `steps`\n",
    "argument to evaluate. The `input_fn` for eval only yields a single\n",
    "[epoch](https://developers.google.com/machine-learning/glossary/#epoch) of data.\n",
    "\n",
    "\n",
    "The `eval_result` dictionary also contains the `average_loss` (mean loss per sample), the `loss` (mean loss per mini-batch) and the value of the estimator's `global_step` (the number of training iterations it underwent).\n"
   ]
  },
  {
   "cell_type": "markdown",
   "metadata": {},
   "source": [
    "### Making predictions (inferring) from the trained model\n",
    "\n",
    "You now have a trained model that produces good evaluation results.\n",
    "You can now use the trained model to predict the species of an Iris flower\n",
    "based on some unlabeled measurements. As with training and evaluation, you make\n",
    "predictions using a single function call:"
   ]
  },
  {
   "cell_type": "code",
   "execution_count": 19,
   "metadata": {
    "pycharm": {
     "name": "#%%\n"
    }
   },
   "outputs": [],
   "source": [
    "# Generate predictions from the model\n",
    "expected = ['Setosa', 'Versicolor', 'Virginica']\n",
    "predict_x = {\n",
    "    'SepalLength': [5.1, 5.9, 6.9],\n",
    "    'SepalWidth': [3.3, 3.0, 3.1],\n",
    "    'PetalLength': [1.7, 4.2, 5.4],\n",
    "    'PetalWidth': [0.5, 1.5, 2.1],\n",
    "}\n",
    "\n",
    "def input_fn(features, batch_size=256):\n",
    "    \"\"\"An input function for prediction.\"\"\"\n",
    "    # Convert the inputs to a Dataset without labels.\n",
    "    return tf.data.Dataset.from_tensor_slices(dict(features)).batch(batch_size)\n",
    "\n",
    "predictions = classifier.predict(\n",
    "    input_fn=lambda: input_fn(predict_x))"
   ]
  },
  {
   "cell_type": "markdown",
   "metadata": {},
   "source": [
    "The `predict` method returns a Python iterable, yielding a dictionary of\n",
    "prediction results for each example. The following code prints a few\n",
    "predictions and their probabilities:"
   ]
  },
  {
   "cell_type": "code",
   "execution_count": 20,
   "metadata": {
    "pycharm": {
     "name": "#%%\n"
    }
   },
   "outputs": [
    {
     "name": "stdout",
     "output_type": "stream",
     "text": [
      "INFO:tensorflow:Calling model_fn.\n",
      "INFO:tensorflow:Done calling model_fn.\n",
      "INFO:tensorflow:Graph was finalized.\n",
      "INFO:tensorflow:Restoring parameters from /tmp/tmp5gput3ww/model.ckpt-5000\n",
      "INFO:tensorflow:Running local_init_op.\n",
      "INFO:tensorflow:Done running local_init_op.\n",
      "Prediction is \"Setosa\" (59.8%), expected \"Setosa\"\n",
      "Prediction is \"Versicolor\" (39.7%), expected \"Versicolor\"\n",
      "Prediction is \"Virginica\" (59.3%), expected \"Virginica\"\n"
     ]
    }
   ],
   "source": [
    "for pred_dict, expec in zip(predictions, expected):\n",
    "    class_id = pred_dict['class_ids'][0]\n",
    "    probability = pred_dict['probabilities'][class_id]\n",
    "\n",
    "    print('Prediction is \"{}\" ({:.1f}%), expected \"{}\"'.format(\n",
    "        SPECIES[class_id], 100 * probability, expec))\n",
    "\n"
   ]
  },
  {
   "cell_type": "code",
   "execution_count": null,
   "metadata": {},
   "outputs": [],
   "source": []
  }
 ],
 "metadata": {
  "accelerator": "GPU",
  "colab": {
   "collapsed_sections": [],
   "name": "basics.ipynb",
   "private_outputs": true,
   "provenance": [],
   "toc_visible": true,
   "version": "0.3.2"
  },
  "kernelspec": {
   "display_name": "Python 3",
   "language": "python",
   "name": "python3"
  },
  "language_info": {
   "codemirror_mode": {
    "name": "ipython",
    "version": 3
   },
   "file_extension": ".py",
   "mimetype": "text/x-python",
   "name": "python",
   "nbconvert_exporter": "python",
   "pygments_lexer": "ipython3",
   "version": "3.6.9"
  },
  "pycharm": {
   "stem_cell": {
    "cell_type": "raw",
    "metadata": {
     "collapsed": false
    },
    "source": []
   }
  }
 },
 "nbformat": 4,
 "nbformat_minor": 1
}
