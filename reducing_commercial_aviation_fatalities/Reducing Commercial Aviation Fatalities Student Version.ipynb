{
 "cells": [
  {
   "cell_type": "code",
   "execution_count": null,
   "metadata": {
    "colab": {},
    "colab_type": "code",
    "id": "0kdtre5wklUj"
   },
   "outputs": [],
   "source": [
    "import numpy as np # numpy library used mainly for linear algebra\n",
    "import pandas as pd # pandas library used to read and manipulate tabular data\n",
    "\n",
    "# define random seed for reproducibility we will use it in other instances in the code\n",
    "seed = 17\n",
    "np.random.seed(seed)\n",
    "\n",
    "# load our data\n",
    "print(\"loading our dataset please wait..\")\n",
    "root_dir = \"../datasets/reducing-commercial-aviation-fatalities/\" # the root directory of the dataset\n",
    "df_train = pd.read_csv(root_dir + \"train.csv\") # load training data\n",
    "df_test = pd.read_csv(root_dir + \"test.csv\") # load testing data\n",
    "print(\"Our dataset loaded.. Successfully\")"
   ]
  },
  {
   "cell_type": "markdown",
   "metadata": {
    "colab_type": "text",
    "id": "xtoaP4eWOWaM"
   },
   "source": [
    "# EDA"
   ]
  },
  {
   "cell_type": "code",
   "execution_count": null,
   "metadata": {
    "colab": {
     "base_uri": "https://localhost:8080/",
     "height": 224
    },
    "colab_type": "code",
    "executionInfo": {
     "elapsed": 1496,
     "status": "ok",
     "timestamp": 1578829573149,
     "user": {
      "displayName": "Mo'men Abdelrazek",
      "photoUrl": "https://lh3.googleusercontent.com/a-/AAuE7mCeKuR-Cjs4kGoGSLP5tYxKgCCAnF4mFAJHBWmLQQ=s64",
      "userId": "07410409441431010760"
     },
     "user_tz": -120
    },
    "id": "s9FKtEXqrwcV",
    "outputId": "9ceae8ab-b5ed-4ebc-ac77-a0d69a878846"
   },
   "outputs": [],
   "source": [
    "# explore the training and testing data\n",
    "print(df_train.head())\n",
    "print(df_test.head())"
   ]
  },
  {
   "cell_type": "code",
   "execution_count": null,
   "metadata": {
    "colab": {
     "base_uri": "https://localhost:8080/",
     "height": 68
    },
    "colab_type": "code",
    "executionInfo": {
     "elapsed": 2396,
     "status": "ok",
     "timestamp": 1578829574080,
     "user": {
      "displayName": "Mo'men Abdelrazek",
      "photoUrl": "https://lh3.googleusercontent.com/a-/AAuE7mCeKuR-Cjs4kGoGSLP5tYxKgCCAnF4mFAJHBWmLQQ=s64",
      "userId": "07410409441431010760"
     },
     "user_tz": -120
    },
    "id": "0jHY14q5uqrU",
    "outputId": "1643bc8e-5692-4961-c9a4-e8ada8afa45c"
   },
   "outputs": [],
   "source": [
    "# get the unique values to categorize the dataframes\n",
    "\n",
    "crew_ids = df_train[\"crew\"].unique()\n",
    "print(\"crew ids: {}\".format(crew_ids))\n",
    "\n",
    "experiment_ids = df_train[\"experiment\"].unique()\n",
    "print(\"experiment ids: {}\".format(experiment_ids))\n",
    "\n",
    "seat_ids = df_train[\"seat\"].unique()\n",
    "print(\"seat ids: {}\".format(seat_ids))\n"
   ]
  },
  {
   "cell_type": "markdown",
   "metadata": {
    "colab_type": "text",
    "id": "NGzgWOnm6qxE"
   },
   "source": [
    "\n",
    "\n",
    "*   crew - a unique id for a pair of pilots. There are 9 crews in the data.\n",
    "*   experiment - One of CA, DA, SS or LOFT. The first 3 comprise the training set. The latter the test set.\n",
    "* seat - is the pilot in the left (0) or right (1) seat\n",
    "*  time - seconds into the experiment\n",
    "\n",
    "\n",
    "---\n",
    "\n",
    "\n",
    "As mentionned in the data description of the competition, each of the 18 pilots was recorded over time and subjected to the CA, DA, or SS cognitive states. The training set contains three experiments (one for each state) in which the pilots experienced just one of the states.\n",
    "\n",
    "Thus, we have to hierarchically group the training data by :\n",
    "\n",
    "crew\n",
    "seat (pilot)\n",
    "experiment\n",
    "\n",
    "\n",
    "---\n",
    "\n",
    "\n",
    "\n",
    "let's visualize the data by categorizing it using those attributes\n",
    "\n",
    "\n",
    "\n",
    "\n"
   ]
  },
  {
   "cell_type": "code",
   "execution_count": null,
   "metadata": {
    "colab": {},
    "colab_type": "code",
    "id": "bj0JCEVPHuqJ"
   },
   "outputs": [],
   "source": [
    "# categorize and map with intergers\n",
    "\n",
    "dic_exp = {'CA': 2, 'DA': 3, 'SS': 1, 'LOFT': 4}\n",
    "# A = baseline, B = SS, C = CA, D = DA\n",
    "dic_event = {'A': 0, 'B': 1, 'C': 2, 'D': 3}\n",
    "\n",
    "labels_exp = {v: k for k, v in dic_exp.items()}\n",
    "labels_event = {v: k for k, v in dic_event.items()}\n",
    "\n",
    "df_train[\"event\"] = df_train[\"event\"].apply(lambda x: dic_event[x])\n",
    "df_train[\"event\"] = df_train[\"event\"].astype('int8')\n",
    "df_train['experiment'] = df_train['experiment'].apply(lambda x: dic_exp[x])\n",
    "df_test['experiment'] = df_test['experiment'].apply(lambda x: dic_exp[x])\n",
    "\n",
    "df_train['experiment'] = df_train['experiment'].astype('int8')\n",
    "df_test['experiment'] = df_test['experiment'].astype('int8')"
   ]
  },
  {
   "cell_type": "code",
   "execution_count": null,
   "metadata": {
    "colab": {},
    "colab_type": "code",
    "id": "defB9LYg7c5y"
   },
   "outputs": [],
   "source": [
    "# indexing the df_train with pilots and experiments\n",
    "DF_train = df_train.set_index(['crew', 'seat', 'experiment']).sort_values(by=['time']).sort_index()\n",
    "DF_train.head()"
   ]
  },
  {
   "cell_type": "code",
   "execution_count": null,
   "metadata": {
    "colab": {
     "base_uri": "https://localhost:8080/",
     "height": 255
    },
    "colab_type": "code",
    "executionInfo": {
     "elapsed": 13331,
     "status": "ok",
     "timestamp": 1578829585054,
     "user": {
      "displayName": "Mo'men Abdelrazek",
      "photoUrl": "https://lh3.googleusercontent.com/a-/AAuE7mCeKuR-Cjs4kGoGSLP5tYxKgCCAnF4mFAJHBWmLQQ=s64",
      "userId": "07410409441431010760"
     },
     "user_tz": -120
    },
    "id": "9JG_7yggC8o_",
    "outputId": "f9589bf0-6d8e-4db7-c5a3-5442ee3bef54"
   },
   "outputs": [],
   "source": [
    "# retrieve one pilot\n",
    "pilot = DF_train.loc[1, 0]\n",
    "pilot.head()"
   ]
  },
  {
   "cell_type": "code",
   "execution_count": null,
   "metadata": {
    "colab": {},
    "colab_type": "code",
    "id": "rd9FVc90FW_Z"
   },
   "outputs": [],
   "source": [
    "# constructing a visualizing tool for our needs\n",
    "# areas colors corresponding to the event state of the pilot\n",
    "# baseline: gray, CA: green, SS: red, DA: blue\n",
    "import matplotlib.pyplot as plt\n",
    "\n",
    "# areas colors corresponding to the event state of the pilot\n",
    "# baseline: gray, SS: red, CA: green, DA: blue\n",
    "event_colors = {0: 'gray', 1: 'red', 2: 'green', 3: 'blue'}\n",
    "\n",
    "def plot_ts(pilot_data, features, exp=0):\n",
    "    exp_data = pilot_data.loc[exp]\n",
    "    \n",
    "    ax = exp_data.plot(\n",
    "         kind='line',\n",
    "         x='time', \n",
    "         y=features, \n",
    "         figsize=(15,5), \n",
    "         linewidth=2.\n",
    "    )\n",
    "    changes = exp_data[exp_data.event.diff().abs()>0][['time', 'event']].values\n",
    "    times = [0] + list(changes[:, 0]) + [exp_data.time.max()]\n",
    "    events = [exp_data.event.iloc[0]] + list(changes[:, 1])\n",
    "    for i in range(len(times)-1):\n",
    "        event = events[i]\n",
    "        ax.axvspan(times[i], times[i+1], facecolor=event_colors[event], alpha=0.1)\n",
    "    \n",
    "    plt.show()"
   ]
  },
  {
   "cell_type": "markdown",
   "metadata": {
    "colab_type": "text",
    "id": "izJprgzQHk9m"
   },
   "source": [
    "Here is the time evolution of the feature event over time, which are also represented by the color backgrounds, so we can assure that the plotting function is correct."
   ]
  },
  {
   "cell_type": "code",
   "execution_count": null,
   "metadata": {
    "colab": {
     "base_uri": "https://localhost:8080/",
     "height": 968
    },
    "colab_type": "code",
    "executionInfo": {
     "elapsed": 156353,
     "status": "ok",
     "timestamp": 1578825965111,
     "user": {
      "displayName": "Mo'men Abdelrazek",
      "photoUrl": "https://lh3.googleusercontent.com/a-/AAuE7mCeKuR-Cjs4kGoGSLP5tYxKgCCAnF4mFAJHBWmLQQ=s64",
      "userId": "07410409441431010760"
     },
     "user_tz": -120
    },
    "id": "3ajCKfrnGQKS",
    "outputId": "5c12f657-caf0-49c2-e83a-c97356376096"
   },
   "outputs": [],
   "source": [
    "plot_ts(pilot_data=pilot, features='event', exp=dic_exp[\"CA\"])\n",
    "plot_ts(pilot_data=pilot, features='event', exp=dic_exp[\"SS\"])\n",
    "plot_ts(pilot_data=pilot, features='event', exp=dic_exp[\"DA\"])"
   ]
  },
  {
   "cell_type": "markdown",
   "metadata": {
    "colab_type": "text",
    "id": "GShC-VKGIxh6"
   },
   "source": [
    "##### Visualize the gsr feature to the 3 experiments for the same pilot using plot_ts function"
   ]
  },
  {
   "cell_type": "code",
   "execution_count": null,
   "metadata": {},
   "outputs": [],
   "source": [
    "## write your visualization code here"
   ]
  },
  {
   "cell_type": "markdown",
   "metadata": {
    "colab": {
     "base_uri": "https://localhost:8080/",
     "height": 968
    },
    "colab_type": "code",
    "executionInfo": {
     "elapsed": 157323,
     "status": "ok",
     "timestamp": 1578825966157,
     "user": {
      "displayName": "Mo'men Abdelrazek",
      "photoUrl": "https://lh3.googleusercontent.com/a-/AAuE7mCeKuR-Cjs4kGoGSLP5tYxKgCCAnF4mFAJHBWmLQQ=s64",
      "userId": "07410409441431010760"
     },
     "user_tz": -120
    },
    "id": "sHS5yJ5gI7kl",
    "outputId": "61119135-c9fe-4c72-a4e5-c56367a2d6df"
   },
   "source": [
    "##### Visualize the ecg feature to the 3 experiments for the same pilot using plot_ts function"
   ]
  },
  {
   "cell_type": "code",
   "execution_count": null,
   "metadata": {
    "colab": {
     "base_uri": "https://localhost:8080/",
     "height": 972
    },
    "colab_type": "code",
    "executionInfo": {
     "elapsed": 159166,
     "status": "ok",
     "timestamp": 1578825968113,
     "user": {
      "displayName": "Mo'men Abdelrazek",
      "photoUrl": "https://lh3.googleusercontent.com/a-/AAuE7mCeKuR-Cjs4kGoGSLP5tYxKgCCAnF4mFAJHBWmLQQ=s64",
      "userId": "07410409441431010760"
     },
     "user_tz": -120
    },
    "id": "Wo-g20sSJHcl",
    "outputId": "dda7085d-8dde-4574-cd68-077a684510a8"
   },
   "outputs": [],
   "source": [
    "## write your visualization code here"
   ]
  },
  {
   "cell_type": "markdown",
   "metadata": {
    "colab_type": "text",
    "id": "ocBnieu8JSim"
   },
   "source": [
    "You can visualize anything using the plot_ts function \n"
   ]
  },
  {
   "cell_type": "markdown",
   "metadata": {
    "colab_type": "text",
    "id": "Zz8xC4u-Jfsu"
   },
   "source": [
    "Here is a very good example to see the data\n"
   ]
  },
  {
   "cell_type": "code",
   "execution_count": null,
   "metadata": {
    "colab": {
     "base_uri": "https://localhost:8080/",
     "height": 968
    },
    "colab_type": "code",
    "executionInfo": {
     "elapsed": 165465,
     "status": "ok",
     "timestamp": 1578825974511,
     "user": {
      "displayName": "Mo'men Abdelrazek",
      "photoUrl": "https://lh3.googleusercontent.com/a-/AAuE7mCeKuR-Cjs4kGoGSLP5tYxKgCCAnF4mFAJHBWmLQQ=s64",
      "userId": "07410409441431010760"
     },
     "user_tz": -120
    },
    "id": "c0izE3PIJdb1",
    "outputId": "d5b65bc8-762d-451c-8ecd-e90620ed1a7b"
   },
   "outputs": [],
   "source": [
    "f = [\"eeg_fp1\",\"eeg_f7\",\"eeg_f8\"]\n",
    "\n",
    "plot_ts(pilot_data=pilot, features=f, exp=dic_exp[\"CA\"])\n",
    "plot_ts(pilot_data=pilot, features=f, exp=dic_exp[\"SS\"])\n",
    "plot_ts(pilot_data=pilot, features=f, exp=dic_exp[\"DA\"])"
   ]
  },
  {
   "cell_type": "markdown",
   "metadata": {},
   "source": [
    "Please visualize all the features and understand the nature of the dataset using plot_ts function"
   ]
  },
  {
   "cell_type": "markdown",
   "metadata": {
    "colab_type": "text",
    "id": "ewQZP7ByMIm9"
   },
   "source": [
    "Let's take some of features and try to understand\n",
    "\n",
    "like ecg which was so noisy"
   ]
  },
  {
   "cell_type": "code",
   "execution_count": null,
   "metadata": {
    "colab": {
     "base_uri": "https://localhost:8080/",
     "height": 338
    },
    "colab_type": "code",
    "executionInfo": {
     "elapsed": 165390,
     "status": "ok",
     "timestamp": 1578825974512,
     "user": {
      "displayName": "Mo'men Abdelrazek",
      "photoUrl": "https://lh3.googleusercontent.com/a-/AAuE7mCeKuR-Cjs4kGoGSLP5tYxKgCCAnF4mFAJHBWmLQQ=s64",
      "userId": "07410409441431010760"
     },
     "user_tz": -120
    },
    "id": "k07Bi7wsMPjs",
    "outputId": "2191fa77-a482-4904-9788-3652bb5518b9"
   },
   "outputs": [],
   "source": [
    "plot_ts(pilot_data=pilot, features='ecg', exp=dic_exp[\"CA\"])"
   ]
  },
  {
   "cell_type": "markdown",
   "metadata": {
    "colab_type": "text",
    "id": "WKGJfsIyMQiF"
   },
   "source": [
    "We can use biosppy library which can help us in this\n",
    "\n"
   ]
  },
  {
   "cell_type": "code",
   "execution_count": null,
   "metadata": {
    "colab": {
     "base_uri": "https://localhost:8080/",
     "height": 282
    },
    "colab_type": "code",
    "executionInfo": {
     "elapsed": 171966,
     "status": "ok",
     "timestamp": 1578825981217,
     "user": {
      "displayName": "Mo'men Abdelrazek",
      "photoUrl": "https://lh3.googleusercontent.com/a-/AAuE7mCeKuR-Cjs4kGoGSLP5tYxKgCCAnF4mFAJHBWmLQQ=s64",
      "userId": "07410409441431010760"
     },
     "user_tz": -120
    },
    "id": "X8lB_kRbNBm8",
    "outputId": "717c8220-9315-4064-ee28-66ebb2e74cf8"
   },
   "outputs": [],
   "source": [
    "from biosppy import ecg\n",
    "\n",
    "ecg_out = ecg.ecg(signal=pilot['ecg'].values, sampling_rate=256., show=False)\n",
    "plt.plot(ecg_out['heart_rate_ts'], ecg_out['heart_rate'])"
   ]
  },
  {
   "cell_type": "markdown",
   "metadata": {},
   "source": [
    "##### Please use biosppy for gsr , r & eeg signals"
   ]
  },
  {
   "cell_type": "code",
   "execution_count": null,
   "metadata": {},
   "outputs": [],
   "source": [
    "#### use biosppy here"
   ]
  },
  {
   "cell_type": "markdown",
   "metadata": {
    "colab_type": "text",
    "id": "HgxY8aKHTKCT"
   },
   "source": [
    "Let's get to know our data more and relation between everything\n"
   ]
  },
  {
   "cell_type": "code",
   "execution_count": null,
   "metadata": {
    "colab": {},
    "colab_type": "code",
    "id": "0yzJozHoTjbE"
   },
   "outputs": [],
   "source": [
    "import seaborn as sns"
   ]
  },
  {
   "cell_type": "markdown",
   "metadata": {},
   "source": [
    "#### Visualizing the count of events in the train dataset"
   ]
  },
  {
   "cell_type": "code",
   "execution_count": null,
   "metadata": {
    "colab": {
     "base_uri": "https://localhost:8080/",
     "height": 627
    },
    "colab_type": "code",
    "executionInfo": {
     "elapsed": 172652,
     "status": "ok",
     "timestamp": 1578825982057,
     "user": {
      "displayName": "Mo'men Abdelrazek",
      "photoUrl": "https://lh3.googleusercontent.com/a-/AAuE7mCeKuR-Cjs4kGoGSLP5tYxKgCCAnF4mFAJHBWmLQQ=s64",
      "userId": "07410409441431010760"
     },
     "user_tz": -120
    },
    "id": "MstJNyNyTSIe",
    "outputId": "898c93a5-9706-437e-9d3d-a7ce1ceb0f3b"
   },
   "outputs": [],
   "source": [
    "plt.figure(figsize=(15,10))\n",
    "sns.countplot(df_train['event'])\n",
    "plt.xlabel(\"State of the pilot\", fontsize=12)\n",
    "plt.ylabel(\"Count\", fontsize=12)\n",
    "plt.title(\"Target repartition\", fontsize=15)\n",
    "plt.show()"
   ]
  },
  {
   "cell_type": "code",
   "execution_count": null,
   "metadata": {
    "colab": {
     "base_uri": "https://localhost:8080/",
     "height": 627
    },
    "colab_type": "code",
    "executionInfo": {
     "elapsed": 173137,
     "status": "ok",
     "timestamp": 1578825982636,
     "user": {
      "displayName": "Mo'men Abdelrazek",
      "photoUrl": "https://lh3.googleusercontent.com/a-/AAuE7mCeKuR-Cjs4kGoGSLP5tYxKgCCAnF4mFAJHBWmLQQ=s64",
      "userId": "07410409441431010760"
     },
     "user_tz": -120
    },
    "id": "hNT9olXwwO5F",
    "outputId": "d0db4155-0ffd-4d12-edf5-8311cf66aeb8"
   },
   "outputs": [],
   "source": [
    "plt.figure(figsize=(15,10))\n",
    "sns.countplot('experiment', hue='event', data=df_train)\n",
    "plt.xlabel(\"Experiment and state of the pilot\", fontsize=12)\n",
    "plt.ylabel(\"Count (log)\", fontsize=12)\n",
    "plt.yscale('log')\n",
    "plt.title(\"Target repartition for different experiments\", fontsize=15)\n",
    "plt.show()\n"
   ]
  },
  {
   "cell_type": "markdown",
   "metadata": {
    "colab_type": "text",
    "id": "zwHXmuvtySJZ"
   },
   "source": [
    "The experiment of the test set is LOFT (Line Oriented Flight Training), which is a full flight (take off, flight, and landing) in a flight simulator.\n",
    "\n",
    "Seat\n",
    "Which seat the pilot is sitting in.\n",
    "\n",
    "0 : left seat\n",
    "1 : right seat\n",
    "This probably has nothing to do with the outcome of the experiment though."
   ]
  },
  {
   "cell_type": "markdown",
   "metadata": {
    "colab": {
     "base_uri": "https://localhost:8080/",
     "height": 627
    },
    "colab_type": "code",
    "executionInfo": {
     "elapsed": 173873,
     "status": "ok",
     "timestamp": 1578825983455,
     "user": {
      "displayName": "Mo'men Abdelrazek",
      "photoUrl": "https://lh3.googleusercontent.com/a-/AAuE7mCeKuR-Cjs4kGoGSLP5tYxKgCCAnF4mFAJHBWmLQQ=s64",
      "userId": "07410409441431010760"
     },
     "user_tz": -120
    },
    "id": "YP0q_L1TyITH",
    "outputId": "9da41545-4328-4e9f-8744-24fe1690e055"
   },
   "source": [
    "##### Visualize between the event and the seat here like the previous example"
   ]
  },
  {
   "cell_type": "code",
   "execution_count": null,
   "metadata": {},
   "outputs": [],
   "source": [
    "### write your visualization code here"
   ]
  },
  {
   "cell_type": "markdown",
   "metadata": {
    "colab_type": "text",
    "id": "TNMG1JoG27Ju"
   },
   "source": [
    "Time of the experiment¶\n"
   ]
  },
  {
   "cell_type": "code",
   "execution_count": null,
   "metadata": {
    "colab": {
     "base_uri": "https://localhost:8080/",
     "height": 627
    },
    "colab_type": "code",
    "executionInfo": {
     "elapsed": 174801,
     "status": "ok",
     "timestamp": 1578825984467,
     "user": {
      "displayName": "Mo'men Abdelrazek",
      "photoUrl": "https://lh3.googleusercontent.com/a-/AAuE7mCeKuR-Cjs4kGoGSLP5tYxKgCCAnF4mFAJHBWmLQQ=s64",
      "userId": "07410409441431010760"
     },
     "user_tz": -120
    },
    "id": "H6E6woW127xS",
    "outputId": "e8795578-506d-49a6-a848-99af08a25046"
   },
   "outputs": [],
   "source": [
    "plt.figure(figsize=(15,10))\n",
    "sns.violinplot(x='event', y='time', data=df_train.sample(50000))\n",
    "plt.ylabel(\"Time (s)\", fontsize=12)\n",
    "plt.xlabel(\"Event\", fontsize=12)\n",
    "plt.title(\"Which time do events occur at ?\", fontsize=15)\n",
    "plt.show()"
   ]
  },
  {
   "cell_type": "markdown",
   "metadata": {
    "colab_type": "text",
    "id": "AF-OIGE03GO4"
   },
   "source": [
    "Data set of test time\n",
    "Data set of train time"
   ]
  },
  {
   "cell_type": "code",
   "execution_count": null,
   "metadata": {
    "colab": {
     "base_uri": "https://localhost:8080/",
     "height": 627
    },
    "colab_type": "code",
    "executionInfo": {
     "elapsed": 180684,
     "status": "ok",
     "timestamp": 1578825990427,
     "user": {
      "displayName": "Mo'men Abdelrazek",
      "photoUrl": "https://lh3.googleusercontent.com/a-/AAuE7mCeKuR-Cjs4kGoGSLP5tYxKgCCAnF4mFAJHBWmLQQ=s64",
      "userId": "07410409441431010760"
     },
     "user_tz": -120
    },
    "id": "XYqmyB0T3FdY",
    "outputId": "56375588-c544-4081-df25-f8314aa306d5"
   },
   "outputs": [],
   "source": [
    "plt.figure(figsize=(15,10))\n",
    "sns.distplot(df_test['time'], label='Test set')\n",
    "sns.distplot(df_train['time'], label='Train set')\n",
    "plt.legend()\n",
    "plt.xlabel(\"Time (s)\", fontsize=12)\n",
    "plt.title(\"Reparition of the time feature\", fontsize=15)\n",
    "plt.show()"
   ]
  },
  {
   "cell_type": "markdown",
   "metadata": {
    "colab_type": "text",
    "id": "AfcoU3k33l5a"
   },
   "source": [
    "### Electroencephalogram recordings"
   ]
  },
  {
   "cell_type": "code",
   "execution_count": null,
   "metadata": {
    "colab": {},
    "colab_type": "code",
    "id": "FkhMkw9wEBxs",
    "pycharm": {
     "name": "#%%\n"
    }
   },
   "outputs": [],
   "source": [
    "eeg_features = [\"eeg_fp1\", \"eeg_f7\", \"eeg_f8\", \"eeg_t4\", \"eeg_t6\", \"eeg_t5\", \"eeg_t3\", \"eeg_fp2\", \"eeg_o1\", \"eeg_p3\", \"eeg_pz\", \"eeg_f3\", \"eeg_fz\", \"eeg_f4\", \"eeg_c4\", \"eeg_p4\", \"eeg_poz\", \"eeg_c3\", \"eeg_cz\", \"eeg_o2\"]"
   ]
  },
  {
   "cell_type": "markdown",
   "metadata": {},
   "source": [
    "##### visualize all eeg signals using sns.boxplot and 5k samples from the dataset"
   ]
  },
  {
   "cell_type": "code",
   "execution_count": null,
   "metadata": {
    "colab": {
     "base_uri": "https://localhost:8080/",
     "height": 1000
    },
    "colab_type": "code",
    "executionInfo": {
     "elapsed": 187367,
     "status": "ok",
     "timestamp": 1578825997695,
     "user": {
      "displayName": "Mo'men Abdelrazek",
      "photoUrl": "https://lh3.googleusercontent.com/a-/AAuE7mCeKuR-Cjs4kGoGSLP5tYxKgCCAnF4mFAJHBWmLQQ=s64",
      "userId": "07410409441431010760"
     },
     "user_tz": -120
    },
    "id": "Arbtza9GEBx8",
    "outputId": "f44c5d45-47d8-4598-ee6f-95e7cb54145d",
    "pycharm": {
     "name": "#%%\n"
    }
   },
   "outputs": [],
   "source": [
    "#### Write your visualization code here"
   ]
  },
  {
   "cell_type": "markdown",
   "metadata": {
    "colab_type": "text",
    "id": "MaU38MscEByH"
   },
   "source": [
    "We Also check if features have the same distribution on the test and train set"
   ]
  },
  {
   "cell_type": "code",
   "execution_count": null,
   "metadata": {},
   "outputs": [],
   "source": [
    "plt.figure(figsize=(20,25))\n",
    "plt.title('ECG features distributions')\n",
    "i = 0\n",
    "\n",
    "\n",
    "    \n",
    "sns.distplot(df_test.sample(10000)[\"ecg\"], label='Test set', hist=False)\n",
    "sns.distplot(df_train.sample(10000)[\"ecg\"], label='Train set', hist=False)\n",
    "plt.xlim((-500, 500))\n",
    "plt.legend()\n",
    "plt.xlabel(\"ecg\", fontsize=12)\n",
    "\n",
    "plt.show()"
   ]
  },
  {
   "cell_type": "markdown",
   "metadata": {},
   "source": [
    "##### visualize all eeg features as the previous example"
   ]
  },
  {
   "cell_type": "code",
   "execution_count": null,
   "metadata": {
    "colab": {
     "base_uri": "https://localhost:8080/",
     "height": 1000
    },
    "colab_type": "code",
    "executionInfo": {
     "elapsed": 197996,
     "status": "ok",
     "timestamp": 1578826008377,
     "user": {
      "displayName": "Mo'men Abdelrazek",
      "photoUrl": "https://lh3.googleusercontent.com/a-/AAuE7mCeKuR-Cjs4kGoGSLP5tYxKgCCAnF4mFAJHBWmLQQ=s64",
      "userId": "07410409441431010760"
     },
     "user_tz": -120
    },
    "id": "fpW6BUJiEByS",
    "outputId": "89453ae1-b62d-46ed-9dd0-0a2038b53adc",
    "pycharm": {
     "name": "#%%\n"
    }
   },
   "outputs": [],
   "source": [
    "#### Write your visualization code here"
   ]
  },
  {
   "cell_type": "markdown",
   "metadata": {
    "colab_type": "text",
    "id": "W6HJUtMdEByW"
   },
   "source": [
    "Write a note waht do you observe"
   ]
  },
  {
   "cell_type": "markdown",
   "metadata": {
    "colab_type": "text",
    "id": "m-QLI7tEEByY"
   },
   "source": [
    "### Electrocardiogram\n",
    "- 3-point Electrocardiogram signal. The sensor had a resolution/bit of .012215 µV and a range of -100mV to +100mV. The data are provided in microvolts."
   ]
  },
  {
   "cell_type": "code",
   "execution_count": null,
   "metadata": {
    "colab": {
     "base_uri": "https://localhost:8080/",
     "height": 627
    },
    "colab_type": "code",
    "executionInfo": {
     "elapsed": 197942,
     "status": "ok",
     "timestamp": 1578826008378,
     "user": {
      "displayName": "Mo'men Abdelrazek",
      "photoUrl": "https://lh3.googleusercontent.com/a-/AAuE7mCeKuR-Cjs4kGoGSLP5tYxKgCCAnF4mFAJHBWmLQQ=s64",
      "userId": "07410409441431010760"
     },
     "user_tz": -120
    },
    "id": "A8UlZIJiEByZ",
    "outputId": "c7708aa9-c854-4578-e477-6680904ed378",
    "pycharm": {
     "name": "#%%\n"
    }
   },
   "outputs": [],
   "source": [
    "plt.figure(figsize=(15,10))\n",
    "sns.violinplot(x='event', y='ecg', data=df_train.sample(50000))\n",
    "plt.ylabel(\"Electrocardiogram Signal (µV)\", fontsize=12)\n",
    "plt.xlabel(\"Event\", fontsize=12)\n",
    "plt.title(\"Electrocardiogram signal influence\", fontsize=15)\n",
    "plt.show()"
   ]
  },
  {
   "cell_type": "code",
   "execution_count": null,
   "metadata": {
    "colab": {
     "base_uri": "https://localhost:8080/",
     "height": 248
    },
    "colab_type": "code",
    "executionInfo": {
     "elapsed": 922,
     "status": "error",
     "timestamp": 1578904017848,
     "user": {
      "displayName": "Mo'men Abdelrazek",
      "photoUrl": "https://lh3.googleusercontent.com/a-/AAuE7mCeKuR-Cjs4kGoGSLP5tYxKgCCAnF4mFAJHBWmLQQ=s64",
      "userId": "07410409441431010760"
     },
     "user_tz": -120
    },
    "id": "bv1_u24KEByu",
    "outputId": "c2e5eabc-4c20-4b0e-dfda-e5c4af65e02c",
    "pycharm": {
     "name": "#%%\n"
    }
   },
   "outputs": [],
   "source": [
    "plt.figure(figsize=(15,10))\n",
    "sns.distplot(df_test['ecg'], label='Test set')\n",
    "sns.distplot(df_train['ecg'], label='Train set')\n",
    "plt.legend()\n",
    "plt.xlabel(\"Electrocardiogram Signal (µV)\", fontsize=12)\n",
    "plt.title(\"Electrocardiogram Signal Distribution\", fontsize=15)\n",
    "plt.show()"
   ]
  },
  {
   "cell_type": "markdown",
   "metadata": {
    "colab_type": "text",
    "id": "8qroAHg3EByx"
   },
   "source": [
    "Except foir the >20000-ish samples, train/test repartitions are similar."
   ]
  },
  {
   "cell_type": "markdown",
   "metadata": {
    "colab_type": "text",
    "id": "WQVdO7N8EBzE"
   },
   "source": [
    "### Respiration \n",
    "- A measure of the rise and fall of the chest. The sensor had a resolution/bit of .2384186 µV and a range of -2.0V to +2.0V. The data are provided in microvolts."
   ]
  },
  {
   "cell_type": "code",
   "execution_count": null,
   "metadata": {
    "colab": {
     "base_uri": "https://localhost:8080/",
     "height": 627
    },
    "colab_type": "code",
    "executionInfo": {
     "elapsed": 203616,
     "status": "ok",
     "timestamp": 1578826014186,
     "user": {
      "displayName": "Mo'men Abdelrazek",
      "photoUrl": "https://lh3.googleusercontent.com/a-/AAuE7mCeKuR-Cjs4kGoGSLP5tYxKgCCAnF4mFAJHBWmLQQ=s64",
      "userId": "07410409441431010760"
     },
     "user_tz": -120
    },
    "id": "z5aUf34AEBzF",
    "outputId": "1ebc530d-6d19-499f-b96f-eb249204dc81",
    "pycharm": {
     "name": "#%%\n"
    }
   },
   "outputs": [],
   "source": [
    "### write visualization here as previous for r signals"
   ]
  },
  {
   "cell_type": "code",
   "execution_count": null,
   "metadata": {
    "colab": {
     "base_uri": "https://localhost:8080/",
     "height": 627
    },
    "colab_type": "code",
    "executionInfo": {
     "elapsed": 8774,
     "status": "ok",
     "timestamp": 1578904058505,
     "user": {
      "displayName": "Mo'men Abdelrazek",
      "photoUrl": "https://lh3.googleusercontent.com/a-/AAuE7mCeKuR-Cjs4kGoGSLP5tYxKgCCAnF4mFAJHBWmLQQ=s64",
      "userId": "07410409441431010760"
     },
     "user_tz": -120
    },
    "id": "QoSoLfdHEBzO",
    "outputId": "a74afebe-9d76-4d27-c261-a8fe684f95c6",
    "pycharm": {
     "name": "#%%\n"
    }
   },
   "outputs": [],
   "source": [
    "### write visualization here as previous for r signals"
   ]
  },
  {
   "cell_type": "markdown",
   "metadata": {
    "colab_type": "text",
    "id": "l8DGVzvfEBzh"
   },
   "source": [
    "Nothing much to say here, the test set has a bunch of sample with lower values though."
   ]
  },
  {
   "cell_type": "markdown",
   "metadata": {
    "colab_type": "text",
    "id": "I9_g4Hh-EBzj"
   },
   "source": [
    "### Galvanic Skin Response\n",
    " - A measure of electrodermal activity. The sensor had a resolution/bit of .2384186 µV and a range of -2.0V to +2.0V. The data are provided in microvolts.\n",
    " > \"The galvanic skin response (GSR, which falls under the umbrella term of electrodermal activity, or EDA) refers to changes in sweat gland activity that are reflective of the intensity of our emotional state, otherwise known as emotional arousal.\""
   ]
  },
  {
   "cell_type": "code",
   "execution_count": null,
   "metadata": {
    "colab": {
     "base_uri": "https://localhost:8080/",
     "height": 627
    },
    "colab_type": "code",
    "executionInfo": {
     "elapsed": 205760,
     "status": "ok",
     "timestamp": 1578826016501,
     "user": {
      "displayName": "Mo'men Abdelrazek",
      "photoUrl": "https://lh3.googleusercontent.com/a-/AAuE7mCeKuR-Cjs4kGoGSLP5tYxKgCCAnF4mFAJHBWmLQQ=s64",
      "userId": "07410409441431010760"
     },
     "user_tz": -120
    },
    "id": "qXb0ejZ_EBzk",
    "outputId": "1414d402-b436-472f-de81-35333efa9b6b",
    "pycharm": {
     "name": "#%%\n"
    }
   },
   "outputs": [],
   "source": [
    "### write visualization here as previous for gsr signals"
   ]
  },
  {
   "cell_type": "code",
   "execution_count": null,
   "metadata": {
    "colab": {
     "base_uri": "https://localhost:8080/",
     "height": 627
    },
    "colab_type": "code",
    "executionInfo": {
     "elapsed": 8239,
     "status": "ok",
     "timestamp": 1578904086812,
     "user": {
      "displayName": "Mo'men Abdelrazek",
      "photoUrl": "https://lh3.googleusercontent.com/a-/AAuE7mCeKuR-Cjs4kGoGSLP5tYxKgCCAnF4mFAJHBWmLQQ=s64",
      "userId": "07410409441431010760"
     },
     "user_tz": -120
    },
    "id": "uADj5dKbEBz6",
    "outputId": "dc8c8c01-9fab-4669-8423-0ed36e2f6bea",
    "pycharm": {
     "name": "#%%\n"
    }
   },
   "outputs": [],
   "source": [
    "### write visualization here as previous for gsr signals"
   ]
  },
  {
   "cell_type": "markdown",
   "metadata": {
    "colab_type": "text",
    "id": "TUma4b46EB0T"
   },
   "source": [
    "# Preprocessing the dataset for the training and model benchmarking\n",
    "\n",
    "\n"
   ]
  },
  {
   "cell_type": "code",
   "execution_count": null,
   "metadata": {
    "colab": {
     "base_uri": "https://localhost:8080/",
     "height": 289
    },
    "colab_type": "code",
    "executionInfo": {
     "elapsed": 207400,
     "status": "ok",
     "timestamp": 1578826018264,
     "user": {
      "displayName": "Mo'men Abdelrazek",
      "photoUrl": "https://lh3.googleusercontent.com/a-/AAuE7mCeKuR-Cjs4kGoGSLP5tYxKgCCAnF4mFAJHBWmLQQ=s64",
      "userId": "07410409441431010760"
     },
     "user_tz": -120
    },
    "id": "p6ldtWh5G9-A",
    "outputId": "e510faf3-85e6-4e50-de0e-30f7a813e9d1"
   },
   "outputs": [],
   "source": [
    "# let's see the dataframes again to revise them\n",
    "print(df_train.head())\n",
    "print(df_test.head())"
   ]
  },
  {
   "cell_type": "markdown",
   "metadata": {
    "colab_type": "text",
    "id": "_zkkBEteHx3D"
   },
   "source": [
    "Get the numpys ready"
   ]
  },
  {
   "cell_type": "markdown",
   "metadata": {
    "colab_type": "text",
    "id": "w3E8r-4XIlDz"
   },
   "source": [
    "Just another check \n",
    "That the same number of pilots"
   ]
  },
  {
   "cell_type": "code",
   "execution_count": null,
   "metadata": {
    "colab": {
     "base_uri": "https://localhost:8080/",
     "height": 51
    },
    "colab_type": "code",
    "executionInfo": {
     "elapsed": 10184,
     "status": "ok",
     "timestamp": 1578854011585,
     "user": {
      "displayName": "Mo'men Abdelrazek",
      "photoUrl": "https://lh3.googleusercontent.com/a-/AAuE7mCeKuR-Cjs4kGoGSLP5tYxKgCCAnF4mFAJHBWmLQQ=s64",
      "userId": "07410409441431010760"
     },
     "user_tz": -120
    },
    "id": "WdZG08yyIMxj",
    "outputId": "d194a40f-dc43-4f64-aed9-ff0bd1bbb759"
   },
   "outputs": [],
   "source": [
    "x_pilots = 20 * df_train['seat'] + df_train['crew']\n",
    "xx_pilots = 20 * df_test['seat'] + df_test['crew']\n",
    "\n",
    "print(\"Number of train pilots : \", len(x_pilots.unique()))\n",
    "print(\"Number of test pilots : \", len(xx_pilots.unique()))"
   ]
  },
  {
   "cell_type": "code",
   "execution_count": null,
   "metadata": {},
   "outputs": [],
   "source": [
    "### reduce the memory usage for the dataframes to avoid ram explosion\n",
    "def reduce_mem_usage(df):\n",
    "    \"\"\" iterate through all the columns of a dataframe and modify the data type\n",
    "        to reduce memory usage.        \n",
    "    \"\"\"\n",
    "    start_mem = df.memory_usage().sum() / 1024**2\n",
    "    print('Memory usage of dataframe is {:.2f} MB'.format(start_mem))\n",
    "    \n",
    "    for col in df.columns:\n",
    "        col_type = df[col].dtype\n",
    "        \n",
    "        if col_type != object:\n",
    "            c_min = df[col].min()\n",
    "            c_max = df[col].max()\n",
    "            if str(col_type)[:3] == 'int':\n",
    "                if c_min > np.iinfo(np.int8).min and c_max < np.iinfo(np.int8).max:\n",
    "                    df[col] = df[col].astype(np.int8)\n",
    "                elif c_min > np.iinfo(np.int16).min and c_max < np.iinfo(np.int16).max:\n",
    "                    df[col] = df[col].astype(np.int16)\n",
    "                elif c_min > np.iinfo(np.int32).min and c_max < np.iinfo(np.int32).max:\n",
    "                    df[col] = df[col].astype(np.int32)\n",
    "                elif c_min > np.iinfo(np.int64).min and c_max < np.iinfo(np.int64).max:\n",
    "                    df[col] = df[col].astype(np.int64)  \n",
    "            else:\n",
    "                if c_min > np.finfo(np.float16).min and c_max < np.finfo(np.float16).max:\n",
    "                    df[col] = df[col].astype(np.float16)\n",
    "                elif c_min > np.finfo(np.float32).min and c_max < np.finfo(np.float32).max:\n",
    "                    df[col] = df[col].astype(np.float32)\n",
    "                else:\n",
    "                    df[col] = df[col].astype(np.float64)\n",
    "        else:\n",
    "            df[col] = df[col].astype('category')\n",
    "\n",
    "    end_mem = df.memory_usage().sum() / 1024**2\n",
    "    print('Memory usage after optimization is: {:.2f} MB'.format(end_mem))\n",
    "    print('Decreased by {:.1f}%'.format(100 * (start_mem - end_mem) / start_mem))\n",
    "    \n",
    "    return df"
   ]
  },
  {
   "cell_type": "markdown",
   "metadata": {},
   "source": [
    "##### Reducing the dataframes"
   ]
  },
  {
   "cell_type": "code",
   "execution_count": null,
   "metadata": {},
   "outputs": [],
   "source": [
    "df_train = reduce_mem_usage(df_train)\n",
    "df_test = reduce_mem_usage(df_test)"
   ]
  },
  {
   "cell_type": "markdown",
   "metadata": {},
   "source": [
    "#### The Columns which we will train on"
   ]
  },
  {
   "cell_type": "code",
   "execution_count": null,
   "metadata": {},
   "outputs": [],
   "source": [
    "features_n = [\"eeg_fp1\", \"eeg_f7\", \"eeg_f8\", \"eeg_t4\", \"eeg_t6\",\n",
    "              \"eeg_t5\", \"eeg_t3\", \"eeg_fp2\", \"eeg_o1\", \"eeg_p3\", \n",
    "              \"eeg_pz\", \"eeg_f3\", \"eeg_fz\", \"eeg_f4\", \"eeg_c4\",\n",
    "              \"eeg_p4\", \"eeg_poz\", \"eeg_c3\", \"eeg_cz\", \"eeg_o2\",\n",
    "              \"ecg\", \"r\", \"gsr\"]"
   ]
  },
  {
   "cell_type": "markdown",
   "metadata": {},
   "source": [
    "##### What do you think ? Do you see that we forgot something ? or that's right ?!"
   ]
  },
  {
   "cell_type": "code",
   "execution_count": null,
   "metadata": {},
   "outputs": [],
   "source": [
    "# adding the pilot column in the dataframe\n",
    "df_train['pilot'] = 100 * df_train['seat'] + df_train['crew']\n",
    "df_test['pilot'] = 100 * df_test['seat'] + df_test['crew']\n",
    "print(\"Number of pilots : \", len(df_train['pilot'].unique()))"
   ]
  },
  {
   "cell_type": "markdown",
   "metadata": {},
   "source": [
    "This dataset has a different nature and should be normalized by pilot.\n",
    "So we will create a function to normalize the dataset by pilot.\n",
    "We should normalize the test dataset as the train dataset"
   ]
  },
  {
   "cell_type": "code",
   "execution_count": null,
   "metadata": {},
   "outputs": [],
   "source": [
    "from tqdm import tqdm\n",
    "from sklearn.preprocessing import MinMaxScaler\n",
    "def normalize_by_pilots(train_df, test_df):\n",
    "    pilots = train_df[\"pilot\"].unique()\n",
    "    for pilot in tqdm(pilots):\n",
    "        ids = train_df[train_df[\"pilot\"] == pilot].index\n",
    "        scaler = MinMaxScaler()\n",
    "        train_df.loc[ids, features_n] = scaler.fit_transform(train_df.loc[ids, features_n])\n",
    "        test_df.loc[ids, features_n] = scaler.transform(test_df.loc[ids, features_n])\n",
    "        \n",
    "    return train_df, test_df"
   ]
  },
  {
   "cell_type": "code",
   "execution_count": null,
   "metadata": {},
   "outputs": [],
   "source": [
    "train_df, test_df = normalize_by_pilots(df_train, df_test)"
   ]
  },
  {
   "cell_type": "markdown",
   "metadata": {},
   "source": [
    "Train\\Val splitting\n",
    "\n",
    "As we had seen there is different counts of the observations by states. So dataset is disbalanced. In such case for Train\\Val splitting better to use StratifiedShuffleSplit method for proportional splitting by all classes"
   ]
  },
  {
   "cell_type": "code",
   "execution_count": null,
   "metadata": {},
   "outputs": [],
   "source": [
    "from sklearn.model_selection import StratifiedShuffleSplit\n",
    "split = StratifiedShuffleSplit(n_splits=1, test_size=0.2, random_state=42)\n",
    "for train_index, val_index in split.split(train_df,train_df[\"event\"]):\n",
    "    strat_train = train_df.loc[train_index]\n",
    "    strat_val = train_df.loc[val_index]"
   ]
  },
  {
   "cell_type": "code",
   "execution_count": null,
   "metadata": {},
   "outputs": [],
   "source": [
    "x_train = strat_train[features_n]\n",
    "y_train = strat_train['event']\n",
    "x_val = strat_val[features_n]\n",
    "y_val = strat_val['event']\n",
    "\n",
    "print(x_train.head(2))\n",
    "print(y_train.head(2))\n",
    "print(x_val.head(2))\n",
    "print(y_val.head(2))"
   ]
  },
  {
   "cell_type": "markdown",
   "metadata": {},
   "source": [
    "#### We can solve the imblanaced data cuz of imbalanced number of events using SMOTE\n",
    "##### Did you hear of it ? "
   ]
  },
  {
   "cell_type": "code",
   "execution_count": null,
   "metadata": {},
   "outputs": [],
   "source": [
    "#### try SMOTE here"
   ]
  },
  {
   "cell_type": "markdown",
   "metadata": {},
   "source": [
    "## Feature Engineering"
   ]
  },
  {
   "cell_type": "markdown",
   "metadata": {},
   "source": [
    "##### Did you try to do some processing and aggregations on the signals ??"
   ]
  },
  {
   "cell_type": "markdown",
   "metadata": {},
   "source": [
    "##### What about some polynomial interactions between 2 features ?!"
   ]
  },
  {
   "cell_type": "markdown",
   "metadata": {},
   "source": [
    "##### Should we design a single model for every pilot ?!"
   ]
  },
  {
   "cell_type": "markdown",
   "metadata": {},
   "source": [
    "#### Did you know that there is some missing data (sensors) in pilots data"
   ]
  },
  {
   "cell_type": "markdown",
   "metadata": {
    "colab_type": "text",
    "id": "uU5ERViaE0PG"
   },
   "source": [
    "# Models\n"
   ]
  },
  {
   "cell_type": "markdown",
   "metadata": {},
   "source": [
    "## Sklearn Example"
   ]
  },
  {
   "cell_type": "markdown",
   "metadata": {},
   "source": [
    "##### Sklearn MLPClassifier"
   ]
  },
  {
   "cell_type": "code",
   "execution_count": null,
   "metadata": {},
   "outputs": [],
   "source": [
    "from sklearn.tree import DecisionTreeClassifier\n",
    "from sklearn.ensemble import RandomForestClassifier\n",
    "from sklearn.ensemble import GradientBoostingClassifier\n",
    "from sklearn.neighbors import KNeighborsClassifier\n",
    "from sklearn.svm import SVC\n",
    "from sklearn.neural_network import MLPClassifier\n",
    "from sklearn.model_selection import cross_val_score\n",
    "from sklearn.model_selection import KFold\n",
    "from sklearn.metrics import confusion_matrix\n",
    "from sklearn.metrics import f1_score\n",
    "from sklearn.metrics import log_loss\n",
    "from sklearn.metrics import precision_score\n",
    "from sklearn.metrics import recall_score\n",
    "from sklearn import metrics\n",
    "from time import time\n",
    "import lightgbm as lgb"
   ]
  },
  {
   "cell_type": "code",
   "execution_count": null,
   "metadata": {},
   "outputs": [],
   "source": [
    "# Definition\n",
    "mlp_clf = MLPClassifier(hidden_layer_sizes=(100), max_iter=10, alpha=0.0001,\n",
    "                      solver='sgd', verbose=10,  random_state=21,tol=0.000000001)\n",
    "# training\n",
    "mlp_clf.fit(x_train, y_train)\n",
    "# metrics\n",
    "pred = mlp_clf.predict(x_val)\n",
    "prob = mlp_clf.predict_proba(x_val)\n",
    "loss = log_loss(y_val, prob, labels=mlp_clf.classes_)\n",
    "score = metrics.accuracy_score(y_val, pred)\n",
    "print(\"Log loss: {}\".format(loss))\n",
    "print(\"accuracy:   %0.3f\" % score)\n",
    "print(metrics.classification_report(y_val, pred, target_names=[\"A\",\"B\",\"C\",\"D\"]))\n",
    "print(metrics.confusion_matrix(y_val, pred))\n",
    "# submission\n",
    "prob_test = mlp_clf.predict_proba(test_df[features_n])\n",
    "\n",
    "sub = pd.DataFrame(prob_test, columns=['A', 'B', 'C', 'D'])\n",
    "sub.to_csv('submission_x.csv', index_label='id')"
   ]
  },
  {
   "cell_type": "markdown",
   "metadata": {},
   "source": [
    "Lets consider following models:\n",
    "\n",
    "- Boosted Decision Trees (using lightgbm)\n",
    "- Decision Tree Classifier\n",
    "- Random Forest\n",
    "- Multilayer Perceptron Classifier"
   ]
  },
  {
   "cell_type": "code",
   "execution_count": null,
   "metadata": {},
   "outputs": [],
   "source": [
    "classifiers = [\n",
    "    ### Fill that code with your models\n",
    "]\n",
    "\n",
    "df_metrics = pd.DataFrame(columns=['model', 'log_loss', 'accuracy', 'precision', 'recall'])\n",
    "\n",
    "# iterate over classifiers\n",
    "for clf in classifiers:\n",
    "    print('_' * 80)\n",
    "    print(\"Training: {}\".format(clf))\n",
    "    t0 = time()\n",
    "    clf.fit(x_train, y_train)\n",
    "    train_time = time() - t0\n",
    "    print(\"train time: %0.3fs\" % train_time)\n",
    "\n",
    "    t0 = time()\n",
    "    pred = clf.predict(x_val)\n",
    "    prob = clf.predict_proba(x_val)\n",
    "    test_time = time() - t0\n",
    "    print(\"test time:  %0.3fs\" % test_time)\n",
    "    \n",
    "    loss = log_loss(y_val, prob, labels=clf.classes_)\n",
    "    print(\"Log loss: {}\".format(loss))\n",
    "\n",
    "    score = metrics.accuracy_score(y_val, pred)\n",
    "    print(\"accuracy:   %0.3f\" % score)\n",
    "    \n",
    "    pr_score = precision_score(y_val, pred, average='weighted')\n",
    "    rc_score = recall_score(y_val, pred, average='weighted')\n",
    "    \n",
    "    df_metrics.loc[str(clf)] = [clf, loss, score, pr_score, rc_score]\n",
    "    \n",
    "    print(\"classification report:\")\n",
    "    print(metrics.classification_report(y_val, pred,\n",
    "                                        target_names=[\"A\",\"B\",\"C\",\"D\"]))\n",
    "\n",
    "    print(\"confusion matrix:\")\n",
    "    print(metrics.confusion_matrix(y_val, pred))\n",
    "\n",
    "    print()\n",
    "    clf_descr = str(clf).split('(')[0]\n",
    "\n",
    "print(df_metrics)\n",
    "df_metrics.to_csv(\"df_metrics.csv\")"
   ]
  },
  {
   "cell_type": "markdown",
   "metadata": {
    "colab_type": "text",
    "id": "yq2ogRGfE4pF"
   },
   "source": [
    "## Keras"
   ]
  },
  {
   "cell_type": "code",
   "execution_count": null,
   "metadata": {},
   "outputs": [],
   "source": [
    "# import numpys from the dataframes\n",
    "x_train_np = x_train.values\n",
    "y_train_np = y_train.values\n",
    "x_val_np = x_val.values\n",
    "y_val_np = y_val.values"
   ]
  },
  {
   "cell_type": "code",
   "execution_count": null,
   "metadata": {
    "colab": {},
    "colab_type": "code",
    "id": "DvjRBXAQE-po"
   },
   "outputs": [],
   "source": [
    "import matplotlib.pyplot as plt\n",
    "from keras.models import Model\n",
    "from keras.layers import Input, Dense, Dropout, ReLU\n",
    "from keras.optimizers import Adam\n",
    "from keras.regularizers import l2\n",
    "\n",
    "###\n",
    "\n",
    "# build Here your own keras model\n",
    "\n",
    "###\n",
    "\n",
    "# Plot the loss curves for training and validation \n",
    "plt.plot(history.history['loss'], color='r', label=\"training loss\")\n",
    "plt.plot(history.history['val_loss'], color='b', label=\"validation loss\")\n",
    "plt.xlabel(\"Number of Epochs\")\n",
    "plt.ylabel(\"Loss\")\n",
    "plt.legend()\n",
    "plt.show()\n",
    "\n",
    "# Plot the accuracy curves for training and validation \n",
    "plt.plot(history.history['acc'], color='r', label=\"training accuracy\")\n",
    "plt.plot(history.history['val_acc'], color='b', label=\"validation accuracy\")\n",
    "plt.xlabel(\"Number of Epochs\")\n",
    "plt.ylabel(\"Accuracy\")\n",
    "plt.ylim(0,1)\n",
    "plt.legend()\n",
    "plt.show()"
   ]
  },
  {
   "cell_type": "markdown",
   "metadata": {},
   "source": [
    "### What about Random Forest Classifier ? Get the best fit of it on our data"
   ]
  },
  {
   "cell_type": "code",
   "execution_count": null,
   "metadata": {},
   "outputs": [],
   "source": [
    "### implement the best random forest classifier with the best parameters here"
   ]
  },
  {
   "cell_type": "markdown",
   "metadata": {},
   "source": [
    "### What about Decision Tree Classifier ? Get the best fit of it on our data"
   ]
  },
  {
   "cell_type": "code",
   "execution_count": null,
   "metadata": {},
   "outputs": [],
   "source": [
    "### implement the best decision tree classifier with the best parameters here"
   ]
  },
  {
   "cell_type": "markdown",
   "metadata": {},
   "source": [
    "#### Do you think using some RNNs & LSTMs can work on this dataset ? And if yes how you will construct it."
   ]
  },
  {
   "cell_type": "code",
   "execution_count": null,
   "metadata": {},
   "outputs": [],
   "source": []
  }
 ],
 "metadata": {
  "accelerator": "GPU",
  "colab": {
   "collapsed_sections": [],
   "machine_shape": "hm",
   "name": "Reducing.ipynb",
   "provenance": []
  },
  "kernelspec": {
   "display_name": "Environment (conda_tensorflow_p36)",
   "language": "python",
   "name": "conda_tensorflow_p36"
  },
  "language_info": {
   "codemirror_mode": {
    "name": "ipython",
    "version": 3
   },
   "file_extension": ".py",
   "mimetype": "text/x-python",
   "name": "python",
   "nbconvert_exporter": "python",
   "pygments_lexer": "ipython3",
   "version": "3.6.5"
  },
  "pycharm": {
   "stem_cell": {
    "cell_type": "raw",
    "metadata": {
     "collapsed": false
    },
    "source": []
   }
  }
 },
 "nbformat": 4,
 "nbformat_minor": 1
}
